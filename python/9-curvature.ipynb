{
 "cells": [
  {
   "cell_type": "code",
   "execution_count": 34,
   "metadata": {
    "collapsed": true
   },
   "outputs": [],
   "source": [
    "# http://stackoverflow.com/questions/12141150/from-list-of-integers-get-number-closest-to-a-given-value\n",
    "\n",
    "from bisect import bisect_left\n",
    "\n",
    "def takeClosest(myList, myNumber):\n",
    "    \"\"\"\n",
    "    Assumes myList is sorted. Returns closest value to myNumber.\n",
    "\n",
    "    If two numbers are equally close, return the smallest number.\n",
    "    \"\"\"\n",
    "    pos = bisect_left(myList, float(myNumber))\n",
    "    if pos == 0:\n",
    "        return float(myList[0])\n",
    "    if pos == len(myList):\n",
    "        return float(myList[-1])\n",
    "    before = float(myList[pos - 1])\n",
    "    after = float(myList[pos])\n",
    "    if after - float(myNumber) < float(myNumber) - before:\n",
    "        return after\n",
    "    else:\n",
    "        return before"
   ]
  },
  {
   "cell_type": "code",
   "execution_count": 35,
   "metadata": {
    "collapsed": true
   },
   "outputs": [],
   "source": [
    "def bin_search_theta_to_index(crack_points, low, high, target):\n",
    "    mid = (low + high) // 2\n",
    "    if float(crack_points[mid][4]) > target:\n",
    "        return bin_search_theta_to_index(crack_points, low, mid - 1, target)\n",
    "    elif float(crack_points[mid][4]) < target:\n",
    "        return bin_search_theta_to_index(crack_points, mid + 1, high, target)\n",
    "    elif float(crack_points[mid][4]) == target:\n",
    "        return mid\n",
    "    else:\n",
    "        raise Exception(\"Binary search should never miss in this case...\")"
   ]
  },
  {
   "cell_type": "code",
   "execution_count": 36,
   "metadata": {
    "collapsed": true
   },
   "outputs": [],
   "source": [
    "def get_distance(x1, y1, x2, y2):\n",
    "    return ((x1 - x2)**2 + (y1 - y2)**2)**.5"
   ]
  },
  {
   "cell_type": "code",
   "execution_count": 37,
   "metadata": {
    "collapsed": false
   },
   "outputs": [],
   "source": [
    "def step_right_until_dist(crack_points, theta, minimum_distance, thetas):\n",
    "    temp_theta = takeClosest(thetas, theta)\n",
    "    start_point_index = bin_search_theta_to_index(crack_points, 0, len(crack_points), temp_theta)\n",
    "    start_point = crack_points[start_point_index]\n",
    "    start_x = float(start_point[5])\n",
    "    start_y = float(start_point[6])\n",
    "#     start_z = float(start_point[7])\n",
    "    \n",
    "    current_point_index = start_point_index\n",
    "    current_point = crack_points[current_point_index]\n",
    "    current_distance = 0\n",
    "    while (current_point_index > 0 and current_point_index < len(crack_points) - 1 and current_distance <= minimum_distance):\n",
    "        current_point_index += 1\n",
    "        current_point = crack_points[current_point_index]\n",
    "        current_x = float(current_point[5])\n",
    "        current_y = float(current_point[6])\n",
    "#         current_z = float(current_point[7])\n",
    "        current_distance = get_distance(start_x, start_y, current_x, current_y)\n",
    "    \n",
    "    return current_point"
   ]
  },
  {
   "cell_type": "code",
   "execution_count": 38,
   "metadata": {
    "collapsed": true
   },
   "outputs": [],
   "source": [
    "def step_left_until_dist(crack_points, theta, minimum_distance, thetas):\n",
    "    temp_theta = takeClosest(thetas, theta)\n",
    "    start_point_index = bin_search_theta_to_index(crack_points, 0, len(crack_points), temp_theta)\n",
    "    start_point = crack_points[start_point_index]\n",
    "    start_x = float(start_point[5])\n",
    "    start_y = float(start_point[6])\n",
    "#     start_z = float(start_point[7])\n",
    "    \n",
    "    current_point_index = start_point_index\n",
    "    current_point = crack_points[current_point_index]\n",
    "    current_distance = 0\n",
    "    while (current_point_index > 0 and current_point_index < len(crack_points) and current_distance <= minimum_distance):\n",
    "        current_point_index -= 1\n",
    "        current_point = crack_points[current_point_index]\n",
    "        current_x = float(current_point[5])\n",
    "        current_y = float(current_point[6])\n",
    "#         current_z = float(current_point[7])\n",
    "        current_distance = get_distance(start_x, start_y, current_x, current_y)\n",
    "    \n",
    "    return current_point"
   ]
  },
  {
   "cell_type": "code",
   "execution_count": 39,
   "metadata": {
    "collapsed": false
   },
   "outputs": [
    {
     "name": "stdout",
     "output_type": "stream",
     "text": [
      "done\n"
     ]
    }
   ],
   "source": [
    "# Calculates the Taylor Factor and write it to file\n",
    "\n",
    "num_cracks = 9\n",
    "points_by_crack_id = []\n",
    "thetas_by_crack_id = []\n",
    "minimum_distance = 10 / 2\n",
    "# This reference point is from the 0-crack_front_growth_rates_1500ppcf_transformed.csv file for CF_id=0\n",
    "reference_x = -1.9932\n",
    "reference_y = 363.26\n",
    "\n",
    "natee = 0\n",
    "\n",
    "for i in range(num_cracks):\n",
    "    points_by_crack_id.append([])\n",
    "    thetas_by_crack_id.append([])\n",
    "    \n",
    "with open('../../data/8-previous-dadN.csv', 'r') as r:\n",
    "    # Skip the header of the file\n",
    "    r.readline()\n",
    "\n",
    "    for line in r:\n",
    "        # Read in the tokens\n",
    "        tokens = line.split(',')\n",
    "        crack_id = int(tokens[3])\n",
    "        theta = float(tokens[4])\n",
    "        on_crack_front = tokens[8] == 'True'\n",
    "        if on_crack_front and crack_id > 0:\n",
    "            points_by_crack_id[crack_id].append(tokens)\n",
    "            thetas_by_crack_id[crack_id].append(float(tokens[4]))\n",
    "\n",
    "with open('../../data/8-previous-dadN.csv', 'r') as r:\n",
    "    with open('../../data/9-curvature-distance.csv', 'w') as w:\n",
    "        # Write the file headers\n",
    "        headers = ('dadN,beta,change_in_z,crack_id,theta,x,y,z,on_crack_front,grain_id,nearest_grain_boundary_x,nearest_grain_boundary_y,'\n",
    "                   'nearest_grain_boundary_z,nearest_grain_boundary_id,distance_to_grain_boundary,'\n",
    "                   'vector_to_grain_boundary_x,vector_to_grain_boundary_y,vector_to_grain_boundary_z,'\n",
    "                   'magnitude_of_vector_to_grain_boundary,unit_vector_to_grain_boundary_x,unit_vector_to_grain_boundary_y,'\n",
    "                   'unit_vector_to_grain_boundary_z,phi1,Phi,phi2,'\n",
    "                   'nearest_grain_phi1,nearest_grain_Phi,nearest_grain_phi2,'\n",
    "                   'misorientation,normal_x,normal_y,normal_z,raw_angle,scaled_angle,taylor_factor,previous_dadN,curvature_distance\\n')\n",
    "        w.write(headers)\n",
    "        \n",
    "        r.readline()\n",
    "        \n",
    "        for line in r:\n",
    "            tokens = line.split(',')\n",
    "        \n",
    "            dadN = tokens[0]\n",
    "            beta = tokens[1]\n",
    "            change_in_z = tokens[2]\n",
    "            crack_id = int(tokens[3])\n",
    "            theta = float(tokens[4])\n",
    "\n",
    "            x = float(tokens[5])\n",
    "            y = float(tokens[6])\n",
    "            z = float(tokens[7])\n",
    "            on_crack_front = tokens[8] == 'True'\n",
    "            grain_id = int(tokens[9])\n",
    "\n",
    "            nearest_grain_boundary_x = tokens[10]\n",
    "            nearest_grain_boundary_y = tokens[11]\n",
    "            nearest_grain_boundary_z = tokens[12]\n",
    "            nearest_grain_boundary_id = int(tokens[13])\n",
    "\n",
    "            distance_to_grain_boundary = tokens[14]\n",
    "            vector_to_grain_boundary_x = float(tokens[15])\n",
    "            vector_to_grain_boundary_y = float(tokens[16])\n",
    "            vector_to_grain_boundary_z = float(tokens[17])\n",
    "            magnitude_of_vector_to_grain_boundary = tokens[18]\n",
    "            unit_vector_to_grain_boundary_x = tokens[19]\n",
    "            unit_vector_to_grain_boundary_y = tokens[20]\n",
    "            unit_vector_to_grain_boundary_z = tokens[21]\n",
    "\n",
    "            phi1 = tokens[22]\n",
    "            Phi = tokens[23]\n",
    "            phi2 = tokens[24]\n",
    "            nearest_grain_phi1 = tokens[25]\n",
    "            nearest_grain_Phi = tokens[26]\n",
    "            nearest_grain_phi2 = tokens[27]\n",
    "            misorientation = tokens[28]\n",
    "\n",
    "            normal_x = tokens[29]\n",
    "            normal_y = tokens[30]\n",
    "            normal_z = tokens[31]\n",
    "            raw_angle = tokens[32]\n",
    "            scaled_angle = tokens[33]\n",
    "            taylor_factor = tokens[34]\n",
    "            previous_dadN = tokens[35].strip()\n",
    "            \n",
    "            if crack_id > 0:\n",
    "                right_point = step_right_until_dist(points_by_crack_id[crack_id], theta, minimum_distance, thetas_by_crack_id[crack_id])\n",
    "                right_point_x = float(right_point[5])\n",
    "                right_point_y = float(right_point[6])\n",
    "\n",
    "                left_point = step_left_until_dist(points_by_crack_id[crack_id], theta, minimum_distance, thetas_by_crack_id[crack_id])\n",
    "                left_point_x = float(left_point[5])\n",
    "                left_point_y = float(left_point[6])\n",
    "\n",
    "                distance_to_right = get_distance(right_point_x, right_point_y, reference_x, reference_y)\n",
    "                distance_to_left = get_distance(left_point_x, left_point_y, reference_x, reference_y)\n",
    "                distance_to_middle = get_distance(x, y, reference_x, reference_y)\n",
    "                avg_distance_to_sides = (distance_to_right + distance_to_left) / 2\n",
    "                curvature_distance = distance_to_middle - avg_distance_to_sides\n",
    "\n",
    "            else:\n",
    "                curvature_distance = None\n",
    "            # Write it to the file\n",
    "#             if crack_id > 0 and on_crack_front:\n",
    "            to_write = '{},{},{},{},{},{},{},{},{},{},{},{},{},{},{},{},{},{},{},{},{},{},{},{},{},{},{},{},{},{},{},{},{},{},{},{},{}\\n'\\\n",
    "                                .format(dadN,beta,change_in_z,crack_id,theta,x,y,z,on_crack_front,\n",
    "                                grain_id,nearest_grain_boundary_x,nearest_grain_boundary_y,\n",
    "                                nearest_grain_boundary_z,nearest_grain_boundary_id,distance_to_grain_boundary,\n",
    "                                vector_to_grain_boundary_x,vector_to_grain_boundary_y,vector_to_grain_boundary_z,\n",
    "                                magnitude_of_vector_to_grain_boundary,unit_vector_to_grain_boundary_x,\n",
    "                                unit_vector_to_grain_boundary_y, unit_vector_to_grain_boundary_z, phi1, Phi, phi2, \n",
    "                                nearest_grain_phi1, nearest_grain_Phi, nearest_grain_phi2, misorientation, \n",
    "                                normal_x, normal_y, normal_z, raw_angle, scaled_angle, taylor_factor, previous_dadN, curvature_distance)\n",
    "            w.write(to_write)\n",
    "print('done')"
   ]
  },
  {
   "cell_type": "code",
   "execution_count": 2,
   "metadata": {
    "collapsed": false
   },
   "outputs": [
    {
     "name": "stdout",
     "output_type": "stream",
     "text": [
      "2.5989039617692895\n"
     ]
    }
   ],
   "source": [
    "# x1 = -0.93115\n",
    "# y1 = 332.85\n",
    "# z1 = 306.54\n",
    "\n",
    "# x2 = 0.2469\n",
    "# y2 = 330.57\n",
    "# z2 = 306.95\n",
    "\n",
    "# dist = ((x1 - x2)**2 + (y1 - y2)**2 + (z1 - z2)**2)**.5\n",
    "# print(dist)"
   ]
  },
  {
   "cell_type": "code",
   "execution_count": null,
   "metadata": {
    "collapsed": true
   },
   "outputs": [],
   "source": []
  }
 ],
 "metadata": {
  "anaconda-cloud": {},
  "kernelspec": {
   "display_name": "Python [Root]",
   "language": "python",
   "name": "Python [Root]"
  },
  "language_info": {
   "codemirror_mode": {
    "name": "ipython",
    "version": 3
   },
   "file_extension": ".py",
   "mimetype": "text/x-python",
   "name": "python",
   "nbconvert_exporter": "python",
   "pygments_lexer": "ipython3",
   "version": "3.5.2"
  }
 },
 "nbformat": 4,
 "nbformat_minor": 0
}
