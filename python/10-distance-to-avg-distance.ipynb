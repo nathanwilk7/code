{
 "cells": [
  {
   "cell_type": "code",
   "execution_count": 3,
   "metadata": {
    "collapsed": true
   },
   "outputs": [],
   "source": [
    "def get_distance(x1, y1, x2, y2):\n",
    "    return ((x1 - x2)**2 + (y1 - y2)**2)**.5"
   ]
  },
  {
   "cell_type": "code",
   "execution_count": 4,
   "metadata": {
    "collapsed": false
   },
   "outputs": [
    {
     "name": "stdout",
     "output_type": "stream",
     "text": [
      "done\n"
     ]
    }
   ],
   "source": [
    "# Calculates the Taylor Factor and write it to file\n",
    "\n",
    "num_cracks = 9\n",
    "avg_distance_by_crack_id = []\n",
    "count = []\n",
    "\n",
    "# This reference point is from the 0-crack_front_growth_rates_1500ppcf_transformed.csv file for CF_id=0\n",
    "reference_x = -1.9932\n",
    "reference_y = 363.26\n",
    "\n",
    "natee = 0\n",
    "\n",
    "for i in range(num_cracks):\n",
    "    avg_distance_by_crack_id.append(0)\n",
    "    count.append(0)\n",
    "    \n",
    "with open('../../data/9-curvature-distance.csv', 'r') as r:\n",
    "    # Skip the header of the file\n",
    "    r.readline()\n",
    "\n",
    "    for line in r:\n",
    "        # Read in the tokens, append dadN\n",
    "        tokens = line.split(',')\n",
    "        crack_id = int(tokens[3])\n",
    "        on_crack_front = tokens[8] == 'True'\n",
    "        if on_crack_front and crack_id > 0:\n",
    "            avg_distance_by_crack_id[crack_id] += get_distance(reference_x, reference_y, float(tokens[5]), float(tokens[6]))\n",
    "            count[crack_id] += 1\n",
    "            \n",
    "for i in range(1, num_cracks):\n",
    "    avg_distance_by_crack_id[i] /= count[crack_id]\n",
    "    \n",
    "\n",
    "with open('../../data/9-curvature-distance.csv', 'r') as r:\n",
    "    with open('../../data/10-distance-to-avg-distance.csv', 'w') as w:\n",
    "        # Write the file headers\n",
    "        headers = ('dadN,beta,change_in_z,crack_id,theta,x,y,z,on_crack_front,grain_id,nearest_grain_boundary_x,nearest_grain_boundary_y,'\n",
    "                   'nearest_grain_boundary_z,nearest_grain_boundary_id,distance_to_grain_boundary,'\n",
    "                   'vector_to_grain_boundary_x,vector_to_grain_boundary_y,vector_to_grain_boundary_z,'\n",
    "                   'magnitude_of_vector_to_grain_boundary,unit_vector_to_grain_boundary_x,unit_vector_to_grain_boundary_y,'\n",
    "                   'unit_vector_to_grain_boundary_z,phi1,Phi,phi2,'\n",
    "                   'nearest_grain_phi1,nearest_grain_Phi,nearest_grain_phi2,'\n",
    "                   'misorientation,normal_x,normal_y,normal_z,raw_angle,scaled_angle,taylor_factor,previous_dadN,'\n",
    "                   'curvature_distance,distance_to_avg_distance\\n')\n",
    "        w.write(headers)\n",
    "        \n",
    "        r.readline()\n",
    "        \n",
    "        for line in r:\n",
    "            tokens = line.split(',')\n",
    "        \n",
    "            dadN = tokens[0]\n",
    "            beta = tokens[1]\n",
    "            change_in_z = tokens[2]\n",
    "            crack_id = int(tokens[3])\n",
    "            theta = float(tokens[4])\n",
    "\n",
    "            x = float(tokens[5])\n",
    "            y = float(tokens[6])\n",
    "            z = float(tokens[7])\n",
    "            on_crack_front = tokens[8] == 'True'\n",
    "            grain_id = int(tokens[9])\n",
    "\n",
    "            nearest_grain_boundary_x = tokens[10]\n",
    "            nearest_grain_boundary_y = tokens[11]\n",
    "            nearest_grain_boundary_z = tokens[12]\n",
    "            nearest_grain_boundary_id = int(tokens[13])\n",
    "\n",
    "            distance_to_grain_boundary = tokens[14]\n",
    "            vector_to_grain_boundary_x = float(tokens[15])\n",
    "            vector_to_grain_boundary_y = float(tokens[16])\n",
    "            vector_to_grain_boundary_z = float(tokens[17])\n",
    "            magnitude_of_vector_to_grain_boundary = tokens[18]\n",
    "            unit_vector_to_grain_boundary_x = tokens[19]\n",
    "            unit_vector_to_grain_boundary_y = tokens[20]\n",
    "            unit_vector_to_grain_boundary_z = tokens[21]\n",
    "\n",
    "            phi1 = tokens[22]\n",
    "            Phi = tokens[23]\n",
    "            phi2 = tokens[24]\n",
    "            nearest_grain_phi1 = tokens[25]\n",
    "            nearest_grain_Phi = tokens[26]\n",
    "            nearest_grain_phi2 = tokens[27]\n",
    "            misorientation = tokens[28]\n",
    "\n",
    "            normal_x = tokens[29]\n",
    "            normal_y = tokens[30]\n",
    "            normal_z = tokens[31]\n",
    "            raw_angle = tokens[32]\n",
    "            scaled_angle = tokens[33]\n",
    "            taylor_factor = tokens[34]\n",
    "            previous_dadN = tokens[35]\n",
    "            curvature_distance = tokens[36].strip()\n",
    "            \n",
    "            if crack_id > 0 and on_crack_front:\n",
    "                distance_to_avg_distance = get_distance(reference_x, reference_y, x, y) - avg_distance_by_crack_id[crack_id]\n",
    "            else:\n",
    "                distance_to_avg_distance = None\n",
    "\n",
    "            # Write it to the file\n",
    "#             if crack_id > 0 and on_crack_front:\n",
    "            to_write = '{},{},{},{},{},{},{},{},{},{},{},{},{},{},{},{},{},{},{},{},{},{},{},{},{},{},{},{},{},{},{},{},{},{},{},{},{},{}\\n'\\\n",
    "                                .format(dadN,beta,change_in_z,crack_id,theta,x,y,z,on_crack_front,\n",
    "                                grain_id,nearest_grain_boundary_x,nearest_grain_boundary_y,\n",
    "                                nearest_grain_boundary_z,nearest_grain_boundary_id,distance_to_grain_boundary,\n",
    "                                vector_to_grain_boundary_x,vector_to_grain_boundary_y,vector_to_grain_boundary_z,\n",
    "                                magnitude_of_vector_to_grain_boundary,unit_vector_to_grain_boundary_x,\n",
    "                                unit_vector_to_grain_boundary_y, unit_vector_to_grain_boundary_z, phi1, Phi, phi2, \n",
    "                                nearest_grain_phi1, nearest_grain_Phi, nearest_grain_phi2, misorientation, \n",
    "                                normal_x, normal_y, normal_z, raw_angle, scaled_angle, taylor_factor, previous_dadN, \n",
    "                                curvature_distance, distance_to_avg_distance)\n",
    "            w.write(to_write)\n",
    "print('done')"
   ]
  },
  {
   "cell_type": "code",
   "execution_count": null,
   "metadata": {
    "collapsed": true
   },
   "outputs": [],
   "source": []
  }
 ],
 "metadata": {
  "kernelspec": {
   "display_name": "Python [Root]",
   "language": "python",
   "name": "Python [Root]"
  },
  "language_info": {
   "codemirror_mode": {
    "name": "ipython",
    "version": 3
   },
   "file_extension": ".py",
   "mimetype": "text/x-python",
   "name": "python",
   "nbconvert_exporter": "python",
   "pygments_lexer": "ipython3",
   "version": "3.5.2"
  }
 },
 "nbformat": 4,
 "nbformat_minor": 0
}
