{
 "cells": [
  {
   "cell_type": "code",
   "execution_count": 10,
   "metadata": {
    "collapsed": false
   },
   "outputs": [
    {
     "name": "stdout",
     "output_type": "stream",
     "text": [
      "1.0\n",
      "2.0\n",
      "3.0\n",
      "4.0\n",
      "5.0\n",
      "6.0\n",
      "7.0\n",
      "8.0\n",
      "9.0\n",
      "10.0\n",
      "11.0\n",
      "1.0\n",
      "2.0\n",
      "3.0\n",
      "4.0\n",
      "5.0\n",
      "6.0\n",
      "7.0\n",
      "8.0\n",
      "9.0\n",
      "10.0\n",
      "11.0\n",
      "12.0\n",
      "13.0\n",
      "14.0\n",
      "15.0\n",
      "16.0\n",
      "17.0\n",
      "18.0\n",
      "19.0\n",
      "20.0\n",
      "21.0\n",
      "22.0\n"
     ]
    }
   ],
   "source": [
    "modify = False\n",
    "natee = 0\n",
    "temp = []\n",
    "progress = 0\n",
    "with open('../data/D1_merged_all_cracks_2micron.vtk', 'r') as file:\n",
    "    for line in file:\n",
    "        if modify:\n",
    "            tokens = line.split()\n",
    "            for num_str in tokens:\n",
    "                temp.append(int(num_str) % 10000)\n",
    "                \n",
    "        if 'LOOKUP_TABLE default' in line:\n",
    "            modify = True\n",
    "        progress += 1\n",
    "        if progress % 100000 == 0:\n",
    "            print(progress / 100000)\n",
    "            \n",
    "progress = 0\n",
    "\n",
    "with open('../data/modded-grain-ids.txt', 'w') as file:\n",
    "    natee = 0\n",
    "    for el in temp:\n",
    "        file.write(str(el) + ' ')\n",
    "        if natee == 19:\n",
    "            file.write('\\n')\n",
    "        natee += 1\n",
    "        if natee == 20:\n",
    "            natee = 0\n",
    "            \n",
    "        progress += 1\n",
    "        if progress % 1000000 == 0:\n",
    "            print(progress / 1000000)"
   ]
  },
  {
   "cell_type": "code",
   "execution_count": null,
   "metadata": {
    "collapsed": true
   },
   "outputs": [],
   "source": []
  }
 ],
 "metadata": {
  "anaconda-cloud": {},
  "kernelspec": {
   "display_name": "Python [Root]",
   "language": "python",
   "name": "Python [Root]"
  },
  "language_info": {
   "codemirror_mode": {
    "name": "ipython",
    "version": 3
   },
   "file_extension": ".py",
   "mimetype": "text/x-python",
   "name": "python",
   "nbconvert_exporter": "python",
   "pygments_lexer": "ipython3",
   "version": "3.5.2"
  }
 },
 "nbformat": 4,
 "nbformat_minor": 0
}
