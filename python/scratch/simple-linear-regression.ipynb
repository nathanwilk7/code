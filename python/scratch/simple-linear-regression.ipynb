{
 "cells": [
  {
   "cell_type": "code",
   "execution_count": 56,
   "metadata": {
    "collapsed": false
   },
   "outputs": [],
   "source": [
    "predictors = [0,2]\n",
    "outcomes = [2,4]\n",
    "\n",
    "# Prediction\n",
    "def prediction(intercept, slope, predictor):\n",
    "    return intercept + slope * predictor\n",
    "\n",
    "# Residual\n",
    "def residual(actual, predicted):\n",
    "    return actual - predicted\n",
    "\n",
    "# Residual Sum of Squares\n",
    "def rss(outcomes, predictions):\n",
    "    val = 0\n",
    "    for i in range(len(outcomes)):\n",
    "        val += residual(outcomes[i], predictions[i]) ** 2\n",
    "    return val\n",
    "\n",
    "def rss2(outcomes, intercept, slope, predictors):\n",
    "    val = 0\n",
    "    for i in range(len(outcomes)):\n",
    "        val += (outcomes[i] - prediction(intercept, slope, predictors[i])) ** 2\n",
    "    return val\n",
    "\n",
    "def mean(arr):\n",
    "    val = 0\n",
    "    for i in range(len(arr)):\n",
    "        val += arr[i]\n",
    "    return val / len(arr)\n",
    "    \n",
    "def best_slope(predictors, outcomes):\n",
    "    x_mean = mean(predictors)\n",
    "    y_mean = mean(outcomes)\n",
    "    numerator = 0\n",
    "    denominator = 0\n",
    "    for i in range(len(predictors)):\n",
    "        numerator += (predictors[i] - x_mean) * (outcomes[i] - y_mean)\n",
    "        denominator += (predictors[i] - x_mean) ** 2\n",
    "    return numerator / denominator\n",
    "\n",
    "def best_intercept(predictors, outcomes, slope=None):\n",
    "    if slope == None:\n",
    "        return mean(outcomes) - best_slope(predictors, outcomes) * mean(predictors)\n",
    "    else:\n",
    "        return mean(outcomes) - slope * mean(predictors)\n",
    "\n",
    "def simple_linear_regression(predictors, outcomes):\n",
    "    slope = best_slope(predictors, outcomes)\n",
    "    intercept = best_intercept(predictors, outcomes, slope)\n",
    "    return intercept, slope\n",
    "\n",
    "def standard_error_slope(standard_deviation, predictors):\n",
    "    x_mean = mean(predictors)\n",
    "    "
   ]
  },
  {
   "cell_type": "code",
   "execution_count": 57,
   "metadata": {
    "collapsed": false
   },
   "outputs": [
    {
     "name": "stdout",
     "output_type": "stream",
     "text": [
      "prediction:  0\n",
      "residual:  -2\n",
      "rss:  0\n",
      "rss2:  2\n",
      "mean:  1.0\n",
      "best_slope:  1.0\n",
      "best_intercept:  2.0\n",
      "simple_linear_regression:  (2.0, 1.0)\n"
     ]
    }
   ],
   "source": [
    "print('prediction: ', prediction(0,1,predictors[0]))\n",
    "print('residual: ', residual(predictors[0], outcomes[0]))\n",
    "print('rss: ', rss(outcomes, [2,4]))\n",
    "print('rss2: ', rss2(outcomes, 1, 1, predictors))\n",
    "print('mean: ', mean(predictors))\n",
    "print('best_slope: ', best_slope(predictors, outcomes))\n",
    "print('best_intercept: ', best_intercept(predictors, outcomes))\n",
    "print('simple_linear_regression: ', simple_linear_regression(predictors, outcomes))"
   ]
  },
  {
   "cell_type": "code",
   "execution_count": null,
   "metadata": {
    "collapsed": true
   },
   "outputs": [],
   "source": []
  }
 ],
 "metadata": {
  "anaconda-cloud": {},
  "kernelspec": {
   "display_name": "Python [Root]",
   "language": "python",
   "name": "Python [Root]"
  },
  "language_info": {
   "codemirror_mode": {
    "name": "ipython",
    "version": 3
   },
   "file_extension": ".py",
   "mimetype": "text/x-python",
   "name": "python",
   "nbconvert_exporter": "python",
   "pygments_lexer": "ipython3",
   "version": "3.5.2"
  }
 },
 "nbformat": 4,
 "nbformat_minor": 0
}
