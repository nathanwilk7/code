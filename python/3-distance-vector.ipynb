{
 "cells": [
  {
   "cell_type": "code",
   "execution_count": 2,
   "metadata": {
    "collapsed": false
   },
   "outputs": [],
   "source": [
    "# Gives the string representation of the parameter\n",
    "def s(el):\n",
    "    return repr(el)\n",
    "\n",
    "# Reads from the nearest_grain_boundary data\n",
    "with open('../data/2-nearest-grain-boundary.csv', 'r') as r:\n",
    "    # Writes into the distance_vector file\n",
    "    with open('../data/3-distance-vector.csv', 'w') as w:\n",
    "        # Write a string with the headers\n",
    "        headers = ('crack_id,theta,x,y,z,dadN3Dline,grain_id,nearest_grain_boundary_x,nearest_grain_boundary_y,'\n",
    "                    'nearest_grain_boundary_z,nearest_grain_boundary_id,distance_to_grain_boundary, '\n",
    "                    'vector_to_grain_boundary_x,vector_to_grain_boundary_y,vector_to_grain_boundary_z, '\n",
    "                    'magnitude_of_vector_to_grain_boundary,unit_vector_to_grain_boundary_x, '\n",
    "                    'unit_vector_to_grain_boundary_y,unit_vector_to_grain_boundary_z\\n')\n",
    "        w.write(headers)\n",
    "        \n",
    "        # Read the header line from the file, don't do anything with it\n",
    "        r.readline()\n",
    "        for line in r:\n",
    "            tokens = line.split(',')\n",
    "            # Pull the data out each line of the file\n",
    "            crack_id = tokens[0]\n",
    "            theta = tokens[1]\n",
    "            x = float(tokens[2])\n",
    "            y = float(tokens[3])\n",
    "            z = float(tokens[4])\n",
    "            dadN3Dline = tokens[5]\n",
    "            grain_id = tokens[6]\n",
    "            \n",
    "            nearest_grain_boundary_x = float(tokens[7])\n",
    "            nearest_grain_boundary_y = float(tokens[8])\n",
    "            nearest_grain_boundary_z = float(tokens[9])\n",
    "            nearest_grain_boundary_id = tokens[10].strip()\n",
    "            \n",
    "            # Find the distance from the x,y,z to the nearest grain boundary\n",
    "            distance_to_grain_boundary = ((nearest_grain_boundary_x-x)**2 + (nearest_grain_boundary_y-y)**2 \\\n",
    "                                             + (nearest_grain_boundary_z-z)**2)**.5\n",
    "            \n",
    "            # Find the vector from the x,y,z to the nearest grain boundary\n",
    "            vector_to_grain_boundary_x = nearest_grain_boundary_x - x\n",
    "            vector_to_grain_boundary_y = nearest_grain_boundary_y - y\n",
    "            vector_to_grain_boundary_z = nearest_grain_boundary_z - z\n",
    "            \n",
    "            # Get the magnitude of the vector\n",
    "            magnitude_of_vector_to_grain_boundary = (vector_to_grain_boundary_x**2+vector_to_grain_boundary_y**2 \\\n",
    "                                                     + vector_to_grain_boundary_z**2)**.5\n",
    "            \n",
    "            # Find the unit vector\n",
    "            unit_vector_to_grain_boundary_x = vector_to_grain_boundary_x / magnitude_of_vector_to_grain_boundary\n",
    "            unit_vector_to_grain_boundary_y = vector_to_grain_boundary_y / magnitude_of_vector_to_grain_boundary\n",
    "            unit_vector_to_grain_boundary_z = vector_to_grain_boundary_z / magnitude_of_vector_to_grain_boundary\n",
    "            \n",
    "            # Write all the bidness\n",
    "            to_write = '{},{},{},{},{},{},{},{},{},{},{},{},{},{},{},{},{},{},{}\\n'.format(crack_id,theta,x,y,z,\\\n",
    "                            dadN3Dline, grain_id, nearest_grain_boundary_x, nearest_grain_boundary_y,\n",
    "                            nearest_grain_boundary_z, nearest_grain_boundary_id, distance_to_grain_boundary,\n",
    "                            vector_to_grain_boundary_x, vector_to_grain_boundary_y, vector_to_grain_boundary_z,\n",
    "                            magnitude_of_vector_to_grain_boundary, unit_vector_to_grain_boundary_x,\n",
    "                            unit_vector_to_grain_boundary_y, unit_vector_to_grain_boundary_z)\n",
    "            w.write(to_write)"
   ]
  },
  {
   "cell_type": "code",
   "execution_count": 3,
   "metadata": {
    "collapsed": false
   },
   "outputs": [
    {
     "data": {
      "text/plain": [
       "'10'"
      ]
     },
     "execution_count": 3,
     "metadata": {},
     "output_type": "execute_result"
    }
   ],
   "source": []
  },
  {
   "cell_type": "code",
   "execution_count": null,
   "metadata": {
    "collapsed": true
   },
   "outputs": [],
   "source": []
  }
 ],
 "metadata": {
  "anaconda-cloud": {},
  "kernelspec": {
   "display_name": "Python [Root]",
   "language": "python",
   "name": "Python [Root]"
  },
  "language_info": {
   "codemirror_mode": {
    "name": "ipython",
    "version": 3
   },
   "file_extension": ".py",
   "mimetype": "text/x-python",
   "name": "python",
   "nbconvert_exporter": "python",
   "pygments_lexer": "ipython3",
   "version": "3.5.2"
  }
 },
 "nbformat": 4,
 "nbformat_minor": 0
}
