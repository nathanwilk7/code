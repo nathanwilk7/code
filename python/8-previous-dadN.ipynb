{
 "cells": [
  {
   "cell_type": "code",
   "execution_count": 1,
   "metadata": {
    "collapsed": true
   },
   "outputs": [],
   "source": [
    "# http://stackoverflow.com/questions/12141150/from-list-of-integers-get-number-closest-to-a-given-value\n",
    "\n",
    "from bisect import bisect_left\n",
    "\n",
    "def takeClosest(myList, myNumber):\n",
    "    \"\"\"\n",
    "    Assumes myList is sorted. Returns closest value to myNumber.\n",
    "\n",
    "    If two numbers are equally close, return the smallest number.\n",
    "    \"\"\"\n",
    "    pos = bisect_left(myList, float(myNumber))\n",
    "    if pos == 0:\n",
    "        return float(myList[0])\n",
    "    if pos == len(myList):\n",
    "        return float(myList[-1])\n",
    "    before = float(myList[pos - 1])\n",
    "    after = float(myList[pos])\n",
    "    if after - float(myNumber) < float(myNumber) - before:\n",
    "        return after\n",
    "    else:\n",
    "        return before"
   ]
  },
  {
   "cell_type": "code",
   "execution_count": 2,
   "metadata": {
    "collapsed": true
   },
   "outputs": [],
   "source": [
    "def bin_search_theta_to_dadN(crack_points, low, high, target):\n",
    "    mid = (low + high) // 2\n",
    "    if float(crack_points[mid][4]) > target:\n",
    "        return bin_search_theta_to_dadN(crack_points, low, mid - 1, target)\n",
    "    elif float(crack_points[mid][4]) < target:\n",
    "        return bin_search_theta_to_dadN(crack_points, mid + 1, high, target)\n",
    "    elif float(crack_points[mid][4]) == target:\n",
    "        return float(crack_points[mid][0])\n",
    "    else:\n",
    "        raise Exception(\"Binary search should never miss in this case...\")"
   ]
  },
  {
   "cell_type": "code",
   "execution_count": 3,
   "metadata": {
    "collapsed": true
   },
   "outputs": [],
   "source": [
    "# TODO: Think about on_crack_front?\n",
    "\n",
    "def get_previous_dadN(thetas_by_crack_id, points_by_crack_id, crack_id, theta):\n",
    "    previous_theta = takeClosest(thetas_by_crack_id[crack_id - 1], theta)\n",
    "    return bin_search_theta_to_dadN(points_by_crack_id[crack_id - 1], 0, len(points_by_crack_id[crack_id - 1]), previous_theta)"
   ]
  },
  {
   "cell_type": "code",
   "execution_count": 4,
   "metadata": {
    "collapsed": false
   },
   "outputs": [
    {
     "name": "stdout",
     "output_type": "stream",
     "text": [
      "crack_id: 0\n",
      "crack_id: 1\n",
      "crack_id: 2\n",
      "crack_id: 3\n",
      "crack_id: 4\n",
      "crack_id: 5\n",
      "crack_id: 6\n",
      "crack_id: 7\n",
      "crack_id: 8\n",
      "done\n"
     ]
    }
   ],
   "source": [
    "# Calculates the Taylor Factor and write it to file\n",
    "\n",
    "num_cracks = 9\n",
    "\n",
    "thetas_by_crack_id = []\n",
    "points_by_crack_id = []\n",
    "\n",
    "natee = 0\n",
    "\n",
    "for i in range(num_cracks):\n",
    "    thetas_by_crack_id.append([])\n",
    "    points_by_crack_id.append([])\n",
    "    \n",
    "with open('../../data/7-taylor-factor.csv', 'r') as r:\n",
    "    # Skip the header of the file\n",
    "    r.readline()\n",
    "\n",
    "    for line in r:\n",
    "        # Read in the tokens\n",
    "        tokens = line.split(',')\n",
    "        crack_id = int(tokens[3])\n",
    "        theta = float(tokens[4])\n",
    "        thetas_by_crack_id[crack_id].append(theta)\n",
    "        points_by_crack_id[crack_id].append(tokens)\n",
    "\n",
    "with open('../../data/7-taylor-factor.csv', 'r') as r:\n",
    "    with open('../../data/8-previous-dadN.csv', 'w') as w:\n",
    "        # Write the file headers\n",
    "        headers = ('dadN,beta,change_in_z,crack_id,theta,x,y,z,on_crack_front,grain_id,nearest_grain_boundary_x,nearest_grain_boundary_y,'\n",
    "                   'nearest_grain_boundary_z,nearest_grain_boundary_id,distance_to_grain_boundary,'\n",
    "                   'vector_to_grain_boundary_x,vector_to_grain_boundary_y,vector_to_grain_boundary_z,'\n",
    "                   'magnitude_of_vector_to_grain_boundary,unit_vector_to_grain_boundary_x,unit_vector_to_grain_boundary_y,'\n",
    "                   'unit_vector_to_grain_boundary_z,phi1,Phi,phi2,'\n",
    "                   'nearest_grain_phi1,nearest_grain_Phi,nearest_grain_phi2,'\n",
    "                   'misorientation,normal_x,normal_y,normal_z,raw_angle,scaled_angle,taylor_factor,previous_dadN\\n')\n",
    "        w.write(headers)\n",
    "        \n",
    "        r.readline()\n",
    "        \n",
    "        for line in r:\n",
    "            tokens = line.split(',')\n",
    "        \n",
    "            dadN = tokens[0]\n",
    "            beta = tokens[1]\n",
    "            change_in_z = tokens[2]\n",
    "            crack_id = int(tokens[3])\n",
    "            if crack_id == natee:\n",
    "                print('crack_id: {}'.format(crack_id))\n",
    "                natee += 1\n",
    "            theta = float(tokens[4])\n",
    "\n",
    "            x = float(tokens[5])\n",
    "            y = float(tokens[6])\n",
    "            z = float(tokens[7])\n",
    "            on_crack_front = tokens[8] == 'True'\n",
    "            grain_id = int(tokens[9])\n",
    "\n",
    "            nearest_grain_boundary_x = tokens[10]\n",
    "            nearest_grain_boundary_y = tokens[11]\n",
    "            nearest_grain_boundary_z = tokens[12]\n",
    "            nearest_grain_boundary_id = int(tokens[13])\n",
    "\n",
    "            distance_to_grain_boundary = tokens[14]\n",
    "            vector_to_grain_boundary_x = float(tokens[15])\n",
    "            vector_to_grain_boundary_y = float(tokens[16])\n",
    "            vector_to_grain_boundary_z = float(tokens[17])\n",
    "            magnitude_of_vector_to_grain_boundary = tokens[18]\n",
    "            unit_vector_to_grain_boundary_x = tokens[19]\n",
    "            unit_vector_to_grain_boundary_y = tokens[20]\n",
    "            unit_vector_to_grain_boundary_z = tokens[21]\n",
    "\n",
    "            phi1 = tokens[22]\n",
    "            Phi = tokens[23]\n",
    "            phi2 = tokens[24]\n",
    "            nearest_grain_phi1 = tokens[25]\n",
    "            nearest_grain_Phi = tokens[26]\n",
    "            nearest_grain_phi2 = tokens[27]\n",
    "            misorientation = tokens[28]\n",
    "\n",
    "            normal_x = tokens[29]\n",
    "            normal_y = tokens[30]\n",
    "            normal_z = tokens[31]\n",
    "            raw_angle = tokens[32]\n",
    "            scaled_angle = tokens[33]\n",
    "            taylor_factor = taylor_factor = tokens[34].strip()\n",
    "\n",
    "            if crack_id > 0:\n",
    "                previous_dadN = get_previous_dadN(thetas_by_crack_id, points_by_crack_id, crack_id, theta)\n",
    "            else:\n",
    "                previous_dadN = None\n",
    "\n",
    "            # Write it to the file\n",
    "#             if crack_id > 0 and on_crack_front:\n",
    "            to_write = '{},{},{},{},{},{},{},{},{},{},{},{},{},{},{},{},{},{},{},{},{},{},{},{},{},{},{},{},{},{},{},{},{},{},{},{}\\n'\\\n",
    "                                .format(dadN,beta,change_in_z,crack_id,theta,x,y,z,on_crack_front,\n",
    "                                grain_id,nearest_grain_boundary_x,nearest_grain_boundary_y,\n",
    "                                nearest_grain_boundary_z,nearest_grain_boundary_id,distance_to_grain_boundary,\n",
    "                                vector_to_grain_boundary_x,vector_to_grain_boundary_y,vector_to_grain_boundary_z,\n",
    "                                magnitude_of_vector_to_grain_boundary,unit_vector_to_grain_boundary_x,\n",
    "                                unit_vector_to_grain_boundary_y, unit_vector_to_grain_boundary_z, phi1, Phi, phi2, \n",
    "                                nearest_grain_phi1, nearest_grain_Phi, nearest_grain_phi2, misorientation, \n",
    "                                normal_x, normal_y, normal_z, raw_angle, scaled_angle, taylor_factor, previous_dadN)\n",
    "            w.write(to_write)\n",
    "print('done')"
   ]
  },
  {
   "cell_type": "code",
   "execution_count": 74,
   "metadata": {
    "collapsed": false
   },
   "outputs": [
    {
     "name": "stdout",
     "output_type": "stream",
     "text": [
      "0.031416\n"
     ]
    }
   ],
   "source": [
    "# crack_id = 3\n",
    "# theta = thetas_by_crack_id[crack_id][101]\n",
    "# previous_theta = takeClosest(thetas_by_crack_id[crack_id - 1], theta)\n",
    "# print(previous_theta)"
   ]
  },
  {
   "cell_type": "code",
   "execution_count": 75,
   "metadata": {
    "collapsed": false
   },
   "outputs": [
    {
     "data": {
      "text/plain": [
       "0.0029444"
      ]
     },
     "execution_count": 75,
     "metadata": {},
     "output_type": "execute_result"
    }
   ],
   "source": [
    "# bin_search_theta_to_dadN(points_by_crack_id[crack_id - 1], 0, len(points_by_crack_id[crack_id - 1]), previous_theta)"
   ]
  },
  {
   "cell_type": "code",
   "execution_count": 65,
   "metadata": {
    "collapsed": false
   },
   "outputs": [
    {
     "name": "stdout",
     "output_type": "stream",
     "text": [
      "None\n"
     ]
    }
   ],
   "source": [
    "# print(found_dadN)"
   ]
  },
  {
   "cell_type": "code",
   "execution_count": null,
   "metadata": {
    "collapsed": true
   },
   "outputs": [],
   "source": []
  }
 ],
 "metadata": {
  "anaconda-cloud": {},
  "kernelspec": {
   "display_name": "Python [Root]",
   "language": "python",
   "name": "Python [Root]"
  },
  "language_info": {
   "codemirror_mode": {
    "name": "ipython",
    "version": 3
   },
   "file_extension": ".py",
   "mimetype": "text/x-python",
   "name": "python",
   "nbconvert_exporter": "python",
   "pygments_lexer": "ipython3",
   "version": "3.5.2"
  }
 },
 "nbformat": 4,
 "nbformat_minor": 0
}
