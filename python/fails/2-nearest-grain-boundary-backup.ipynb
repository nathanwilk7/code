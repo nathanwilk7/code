{
 "cells": [
  {
   "cell_type": "code",
   "execution_count": 2,
   "metadata": {
    "collapsed": false
   },
   "outputs": [],
   "source": [
    "import numpy as np\n",
    "\n",
    "# These params come from the D1_merged_all_cracks_6micron_griddata.vtk file in /data. They are 1 less than the \n",
    "#  DIMENSIONS specified because we are using the center of each voxel.\n",
    "\n",
    "def get_voxel_centers_as_array(num_x_pts, num_y_pts, num_z_pts, increment, file):\n",
    "    total_voxels = num_x_pts * num_y_pts * num_z_pts\n",
    "    natee = 0\n",
    "    next_print = total_voxels / 10\n",
    "    \n",
    "    voxel_centers = np.empty((num_x_pts, num_y_pts, num_z_pts), dtype=int)\n",
    "    with open(file, 'r') as voxel_centers_file:\n",
    "        voxel_centers_file.readline()\n",
    "        for line in voxel_centers_file:\n",
    "            tokens = line.split(',')\n",
    "            x = int(float(tokens[0]))\n",
    "            y = int(float(tokens[1]))\n",
    "            z = int(float(tokens[2]))\n",
    "            grain_id = int(tokens[3])\n",
    "            \n",
    "            # We divide the voxel_centers by the increment so that we fill every index of the list\n",
    "            voxel_centers[x // increment][y // increment][z // increment] = grain_id\n",
    "            \n",
    "            # Print progress\n",
    "            natee += 1\n",
    "            if natee >= next_print:\n",
    "                print('Progress: ', natee / total_voxels)\n",
    "                next_print += total_voxels / 10\n",
    "    return voxel_centers"
   ]
  },
  {
   "cell_type": "code",
   "execution_count": 2,
   "metadata": {
    "collapsed": false
   },
   "outputs": [],
   "source": [
    "# This will give the nearest voxel center (x,y,z) based on the voxel size being the length of 1 side of the voxel\n",
    "\n",
    "def find_nearest_voxel_center(x, y, z, voxel_size):\n",
    "    # This works because / gives a float while // gives an int. So this says that it's in one boundary until the next\n",
    "    voxel_x = int(((x + (voxel_size / 2)) // voxel_size) * voxel_size)\n",
    "    voxel_y = int(((y + (voxel_size / 2)) // voxel_size) * voxel_size)\n",
    "    voxel_z = int(((z + (voxel_size / 2)) // voxel_size) * voxel_size)\n",
    "    return voxel_x, voxel_y, voxel_z"
   ]
  },
  {
   "cell_type": "code",
   "execution_count": 178,
   "metadata": {
    "collapsed": false
   },
   "outputs": [],
   "source": [
    "# Reads in the crack_front_points file. dadN3Dline is the output we're concerned with.\n",
    "\n",
    "def get_crack_front_points(input_file):\n",
    "    with open(input_file, 'r') as crack_points_file:\n",
    "        crack_points_file.readline()\n",
    "        crack_points = []\n",
    "        for line in crack_points_file:\n",
    "            tokens = line.split(',')\n",
    "            crack_id = tokens[0]\n",
    "            theta = tokens[1]\n",
    "            x = tokens[5]\n",
    "            y = tokens[6]\n",
    "            z = tokens[7].strip()\n",
    "            dadN3Dline = tokens[3]\n",
    "            if int(crack_id) > 0:\n",
    "                crack_points.append((crack_id, theta, x, y, z, dadN3Dline))\n",
    "    return crack_points"
   ]
  },
  {
   "cell_type": "code",
   "execution_count": 200,
   "metadata": {
    "collapsed": true
   },
   "outputs": [],
   "source": [
    "# The 4 rightmost digits of the grain_id identify it. The other digits are to show which crack front it's on and \n",
    "#  whether it's above or below the crack front\n",
    "\n",
    "def get_actual_grain_id(long_grain_id):\n",
    "    return long_grain_id % 10000"
   ]
  },
  {
   "cell_type": "code",
   "execution_count": 179,
   "metadata": {
    "collapsed": false
   },
   "outputs": [],
   "source": [
    "from math import atan, pi\n",
    "\n",
    "# Returns true if the given point point (x,y) is in front of the crack front at the given crack_id.\n",
    "# Remember that X and Y are flipped.\n",
    "\n",
    "def is_in_front_of_crack_surface(this_crack_front, crack_id, x, y):\n",
    "    # This reference point is from the 0-crack_front_growth_rates_1500ppcf_transformed.csv file for CF_id=0\n",
    "    reference_x = -1.9932\n",
    "    reference_y = 363.26\n",
    "    \n",
    "    # Find the opposite and adjacent of a triangle formed between reference and given (x,y)\n",
    "    opposite_point = abs(x - reference_x)\n",
    "    adjacent_point = abs(y - reference_y)\n",
    "    \n",
    "    # If the line isn't exactly vertical (i.e.: does not have undefined slope)\n",
    "    if adjacent_point != 0:\n",
    "        theta_point = atan(opposite_point / adjacent_point)\n",
    "        # Formula from the point of reference to the point being tested: x=ay+c\n",
    "        a = (x - reference_x) / (y - reference_y) # Rise over Run. X and Y are switched in this data\n",
    "        c = -a * y + x # Solve x=ay+c for c and stick a point in\n",
    "    \n",
    "    # Otherwise, the line is vertical, so set theta to pi halves and say we don't know a and c\n",
    "    else:\n",
    "        theta_point = pi / 2\n",
    "        a = None\n",
    "        c = None\n",
    "    \n",
    "    # If the given point (x,y) is to the right of the reference point, then we got the wrong theta and we need to flip it\n",
    "    if y > reference_y:\n",
    "        theta_point = pi - theta_point\n",
    "    \n",
    "    # Scan the crack front until we find the two crack front points nearest theta-wise to the give (x,y)\n",
    "    # This could be sped up with a binary search\n",
    "    crack_index1 = 0\n",
    "    num_pts = len(this_crack_front)\n",
    "    while (crack_index1 + 1 < num_pts and float(this_crack_front[crack_index1 + 1][1]) < theta_point):\n",
    "        crack_index1 += 1\n",
    "    if crack_index1 + 1 < num_pts:\n",
    "        crack_index2 = crack_index1 + 1\n",
    "    else:\n",
    "        crack_index2 = crack_index1 - 1\n",
    "    \n",
    "    crack_1x = float(this_crack_front[crack_index1][2])\n",
    "    crack_1y = float(this_crack_front[crack_index1][3])\n",
    "    crack_2x = float(this_crack_front[crack_index2][2])\n",
    "    crack_2y = float(this_crack_front[crack_index2][3])\n",
    "    \n",
    "    # If the line isn't vertical, find its slope and intercept\n",
    "    if crack_1y != crack_2y:\n",
    "        # Formula for points on the crack front: x = yx + d\n",
    "        b = (crack_1x - crack_2x) / (crack_1y - crack_2y) # Rise over Run. X and Y are switched in this data\n",
    "        d = -b * crack_1y + crack_1x # Solve x = by + d for d and stick a point in\n",
    "    else:\n",
    "        b = None\n",
    "        d = None\n",
    "        \n",
    "    # If we found both lines\n",
    "    if a is not None and b is not None:\n",
    "        # Remember X and Y are flipped\n",
    "        intersection_y = (d - c) / (a - b)\n",
    "        intersection_x = a * intersection_y + c\n",
    "        \n",
    "    # Otherwise, we're missing a line\n",
    "    else:\n",
    "        # If we got the line from the reference to the point (x,y), but not the crack front line\n",
    "        if a is not None:\n",
    "            intersection_x = a * intersection_y + c\n",
    "            intersection_y = crack_1y # We know the crack front line is vertical and y is always the same\n",
    "        \n",
    "        # Otherwise, if we got the crack front line but not the point line\n",
    "        elif b is not None:\n",
    "            intersection_x = b * intersection_y + d\n",
    "            intersection_y = y # The point line is vertical, so its y is always the same\n",
    "            \n",
    "        # This shouldn't happen, if it does I'll figure out how to deal with it\n",
    "        else:\n",
    "            raise RuntimeError('Both lines are vertical...')\n",
    "\n",
    "    distance_point = ((y - reference_y)**2 + (x - reference_x)**2)**.5\n",
    "    distance_intersection = ((intersection_y - reference_y)**2 + (intersection_x - reference_x)**2)**.5\n",
    "    \n",
    "    return distance_point >= distance_intersection:"
   ]
  },
  {
   "cell_type": "code",
   "execution_count": 197,
   "metadata": {
    "collapsed": false
   },
   "outputs": [],
   "source": [
    "from collections import deque\n",
    "\n",
    "# Given an array of the voxel centers arr[x][y][z] = grain_id at those 'coordinates / voxel_size'. Returns the nearest \n",
    "#  voxel center that has a different grain_id associated with it. Basically, just does a breadth-first search...\n",
    "# Stuff is currently commented out because the data broke the commented out code on crack 4, it may be faster though\n",
    "\n",
    "def find_nearest_grain_boundary(voxel_centers, checked_voxels, x, y, z, grain_id, this_crack_front, crack_id):\n",
    "    grain_id = get_actual_grain_id(grain_id)\n",
    "    queue = deque([(x,y,z)])\n",
    "    \n",
    "    while len(queue) > 0:\n",
    "        u = queue.popleft()\n",
    "        current_x, current_y, current_z = u\n",
    "        \n",
    "        # voxel_centers[current_x][current_y][current_z] is the grain_id of the voxel we're checking\n",
    "        current_grain_id = get_actual_grain_id(voxel_centers[current_x][current_y][current_z])\n",
    "        # TODO: Added in front of check here\n",
    "        if current_grain_id != grain_id and is_in_front_of_crack_surface(this_crack_front, crack_id, current_x, current_y):\n",
    "            return (current_x, current_y, current_z, current_grain_id)\n",
    "        \n",
    "        checked_voxels[current_x][current_y][current_z] = True\n",
    "        if current_x < len(voxel_centers) - 1 and not checked_voxels[current_x + 1][current_y][current_z]: #\\\n",
    "#                 and is_in_front_of_crack_surface(this_crack_front, crack_id, current_x + 1, current_y):\n",
    "            queue.append((current_x + 1, current_y, current_z))\n",
    "            checked_voxels[current_x + 1][current_y][current_z] = True\n",
    "            \n",
    "        if current_x > 0 and not checked_voxels[current_x - 1][current_y][current_z]: #\\\n",
    "#                 and is_in_front_of_crack_surface(this_crack_front, crack_id, current_x - 1, current_y):\n",
    "            queue.append((current_x - 1, current_y, current_z))\n",
    "            checked_voxels[current_x - 1][current_y][current_z] = True\n",
    "            \n",
    "        if current_y < len(voxel_centers[0]) - 1 and not checked_voxels[current_x][current_y + 1][current_z]: #\\\n",
    "#                 and is_in_front_of_crack_surface(this_crack_front, crack_id, current_x, current_y + 1):\n",
    "            queue.append((current_x, current_y + 1, current_z))\n",
    "            checked_voxels[current_x][current_y + 1][current_z] = True\n",
    "            \n",
    "        if current_y > 0 and not checked_voxels[current_x][current_y - 1][current_z]: #\\\n",
    "#                 and is_in_front_of_crack_surface(this_crack_front, crack_id, current_x, current_y - 1):\n",
    "            queue.append((current_x, current_y - 1, current_z))\n",
    "            checked_voxels[current_x][current_y - 1][current_z] = True\n",
    "            \n",
    "        if current_z < len(voxel_centers[0][0]) - 1 and not checked_voxels[current_x][current_y][current_z + 1]: #\\\n",
    "#                 and is_in_front_of_crack_surface(this_crack_front, crack_id, current_x, current_y):\n",
    "            queue.append((current_x, current_y, current_z + 1))\n",
    "            checked_voxels[current_x][current_y][current_z + 1] = True\n",
    "            \n",
    "        if current_z > 0 and not checked_voxels[current_x][current_y][current_z - 1]: #\\\n",
    "#                 and is_in_front_of_crack_surface(this_crack_front, crack_id, current_x, current_y):\n",
    "            queue.append((current_x, current_y, current_z - 1))\n",
    "            checked_voxels[current_x][current_y][current_z - 1] = True\n",
    "    \n",
    "    raise RuntimeError('Grain boundary not found')"
   ]
  },
  {
   "cell_type": "code",
   "execution_count": 198,
   "metadata": {
    "collapsed": true
   },
   "outputs": [],
   "source": [
    "# Get the index in voxel_centers from x,y,z\n",
    "\n",
    "def get_voxel_centers_index(x, y, z, voxel_size):\n",
    "    return x // voxel_size, y // voxel_size, z // voxel_size"
   ]
  },
  {
   "cell_type": "code",
   "execution_count": 199,
   "metadata": {
    "collapsed": true
   },
   "outputs": [],
   "source": [
    "# Get the x,y,z from voxel_centers indices\n",
    "\n",
    "def get_xyz_from_voxel_centers_index(xi, yi, zi, voxel_size):\n",
    "    return xi * voxel_size, yi * voxel_size, zi * voxel_size"
   ]
  },
  {
   "cell_type": "code",
   "execution_count": 187,
   "metadata": {
    "collapsed": false
   },
   "outputs": [
    {
     "name": "stdout",
     "output_type": "stream",
     "text": [
      "Progress:  0.10000001758367279\n",
      "Progress:  0.20000003516734557\n",
      "Progress:  0.3000000087918364\n",
      "Progress:  0.4000000263755092\n",
      "Progress:  0.5\n",
      "Progress:  0.6000000175836728\n",
      "Progress:  0.7000000351673455\n",
      "Progress:  0.8000000087918364\n",
      "Progress:  0.9000000263755091\n",
      "done\n"
     ]
    }
   ],
   "source": [
    "# Time: ~ 3 minutes\n",
    "# These params come from the D1_merged_all_cracks_6micron_griddata.vtk file in /data. They are 1 less than the \n",
    "#  DIMENSIONS specified because we are using the center of each voxel.\n",
    "\n",
    "voxel_centers = get_voxel_centers_as_array(201, 376, 301, 2, '../data/1-voxel-centers.csv')\n",
    "print('done')"
   ]
  },
  {
   "cell_type": "code",
   "execution_count": 201,
   "metadata": {
    "collapsed": false
   },
   "outputs": [],
   "source": [
    "# Gets the crack front points from file\n",
    "\n",
    "crack_front_points = get_crack_front_points('../data/0-crack_front_growth_rates_1500ppcf_transformed.csv')"
   ]
  },
  {
   "cell_type": "code",
   "execution_count": 211,
   "metadata": {
    "collapsed": false
   },
   "outputs": [
    {
     "name": "stdout",
     "output_type": "stream",
     "text": [
      "Progress:  0.010638095238095238\n",
      "Progress:  0.020611428571428572\n",
      "Progress:  0.030584761904761906\n",
      "Progress:  0.04055873015873016\n",
      "Progress:  0.05053015873015873\n",
      "Progress:  0.06050476190476191\n",
      "Progress:  0.07047936507936509\n",
      "Progress:  0.08045079365079365\n",
      "Progress:  0.0910888888888889\n",
      "Progress:  0.10039682539682539\n",
      "Progress:  0.11037142857142856\n",
      "Progress:  0.12034603174603174\n",
      "Progress:  0.1303174603174603\n",
      "Progress:  0.1402920634920635\n",
      "Progress:  0.15026349206349207\n",
      "Progress:  0.16023809523809526\n",
      "Progress:  0.17021269841269843\n",
      "Progress:  0.18018412698412697\n",
      "Progress:  0.19015873015873017\n",
      "Progress:  0.20013015873015874\n",
      "Progress:  0.21010476190476193\n",
      "Progress:  0.2200793650793651\n",
      "Progress:  0.23005079365079364\n",
      "Progress:  0.24002539682539684\n",
      "Progress:  0.2506634920634921\n",
      "Progress:  0.2606349206349206\n",
      "Progress:  0.2706095238095238\n",
      "Progress:  0.280584126984127\n",
      "Progress:  0.29055555555555557\n",
      "Progress:  0.30053015873015876\n",
      "Progress:  0.3105015873015873\n",
      "Progress:  0.3204761904761905\n",
      "Progress:  0.33044444444444443\n",
      "Progress:  0.34041269841269844\n",
      "Progress:  0.3504126984126984\n",
      "Progress:  0.3603809523809524\n",
      "Progress:  0.3703492063492064\n",
      "Progress:  0.38031746031746033\n",
      "Progress:  0.3902857142857143\n",
      "Progress:  0.40025396825396825\n",
      "Progress:  0.41022222222222227\n",
      "Progress:  0.4202222222222223\n",
      "Progress:  0.4301904761904762\n",
      "Progress:  0.4401587301587302\n",
      "Progress:  0.4501269841269841\n",
      "Progress:  0.4600952380952381\n",
      "Progress:  0.47006349206349207\n",
      "Progress:  0.4800634920634921\n",
      "Progress:  0.4900317460317461\n",
      "Progress:  0.5006666666666667\n",
      "Progress:  0.5106349206349207\n",
      "Progress:  0.5206031746031746\n",
      "Progress:  0.5305714285714286\n",
      "Progress:  0.5405396825396825\n",
      "Progress:  0.5505396825396826\n",
      "Progress:  0.5605079365079365\n",
      "Progress:  0.5704761904761905\n",
      "Progress:  0.5804444444444444\n",
      "Progress:  0.5904126984126984\n",
      "Progress:  0.6003809523809523\n",
      "Progress:  0.6103809523809525\n",
      "Progress:  0.6203492063492063\n",
      "Progress:  0.6303174603174604\n",
      "Progress:  0.6402857142857143\n",
      "Progress:  0.6502539682539682\n",
      "Progress:  0.6602222222222222\n",
      "Progress:  0.6701904761904762\n",
      "Progress:  0.6801904761904761\n",
      "Progress:  0.6901587301587302\n",
      "Progress:  0.7001269841269842\n",
      "Progress:  0.7100952380952381\n",
      "Progress:  0.7207301587301588\n",
      "Progress:  0.7300634920634921\n",
      "Progress:  0.7400317460317462\n",
      "Progress:  0.7506666666666666\n",
      "Progress:  0.7606349206349207\n",
      "Progress:  0.7706031746031746\n",
      "Progress:  0.7805714285714286\n",
      "Progress:  0.7905396825396827\n",
      "Progress:  0.8005396825396826\n",
      "Progress:  0.8105079365079366\n",
      "Progress:  0.8204761904761905\n",
      "Progress:  0.8304444444444444\n",
      "Progress:  0.8404126984126984\n",
      "Progress:  0.8503809523809525\n",
      "Progress:  0.8603809523809524\n",
      "Progress:  0.8703492063492064\n",
      "Progress:  0.8803174603174604\n",
      "Progress:  0.8902857142857142\n",
      "Progress:  0.9002539682539682\n",
      "Progress:  0.9102222222222223\n",
      "Progress:  0.9201904761904762\n",
      "Progress:  0.9301904761904762\n",
      "Progress:  0.9401587301587302\n",
      "Progress:  0.9501269841269842\n",
      "Progress:  0.9600952380952382\n",
      "Progress:  0.9700634920634921\n",
      "Progress:  0.980031746031746\n",
      "Progress:  0.99\n",
      "done\n"
     ]
    }
   ],
   "source": [
    "# Save the nearest grain boundaries for the points on each crack front\n",
    "\n",
    "# Setup\n",
    "voxel_size = 2\n",
    "crack_id_test = '8' # Use this to do each crack front iteratively... 1 - 8 inclusive\n",
    "previously_looked_up = {}\n",
    "next_print = 3.15 / 100\n",
    "\n",
    "# Set up crack_front points so we can check whether points are in front or behind later\n",
    "this_crack_front = []\n",
    "for crack_front_point in crack_front_points:\n",
    "    this_crack_id = int(crack_front_point[0])\n",
    "    if this_crack_id == int(crack_id_test):\n",
    "        this_crack_front.append(crack_front_point)\n",
    "\n",
    "with open('../data/2-nearest_grain_boundary.csv', 'a') as file:\n",
    "    # Only write the header the first time\n",
    "    if crack_id_test == '1':\n",
    "        file.write('Crack ID, Theta, X, Y, Z, dadN3Dline, Grain ID, Nearest Grain Boundary X, Nearest Grain Boundary Y, Nearest Grain Boundary Z, Nearest Grain Boundary ID\\n')\n",
    "    for crack_front_point in crack_front_points:\n",
    "        crack_id, theta, x, y, z, dadN3Dline = crack_front_point\n",
    "        if crack_id_test == crack_id:\n",
    "            x = float(x)\n",
    "            y = float(y)\n",
    "            z = float(z)\n",
    "\n",
    "            # Get the nearest voxel_center for the x,y,z of the crack_front\n",
    "            nearest_voxel_xyz = find_nearest_voxel_center(x, y, z, voxel_size)\n",
    "            nearest_voxel_x, nearest_voxel_y, nearest_voxel_z = nearest_voxel_xyz\n",
    "            \n",
    "            # TODO: if nearest_voxel_x < 0 or nearest_voxel_y < 0 or nearest_voxel_z < 0: continue? \n",
    "            #  Or just delete them from data so I don't have to run again this time...\n",
    "\n",
    "            # We need to keep track of what voxels we search\n",
    "            checked_false = np.full(voxel_centers.shape, False, np.bool)\n",
    "\n",
    "            # Get the grain_id of the voxel we're looking at\n",
    "            voxel_centers_index_x, voxel_centers_index_y, voxel_centers_index_z = \\\n",
    "                get_voxel_centers_index(nearest_voxel_x, nearest_voxel_y, nearest_voxel_z, voxel_size)\n",
    "            nearest_grain_id = get_actual_grain_id(voxel_centers[voxel_centers_index_x][voxel_centers_index_y][voxel_centers_index_z])\n",
    "            \n",
    "            # Find the x,y,z,grain_id of the nearest grain boundary\n",
    "            if nearest_voxel_xyz in previously_looked_up:\n",
    "                grain_boundary_index_x, grain_boundary_index_y, grain_boundary_index_z, grain_boundary_id = previously_looked_up[nearest_voxel_xyz]\n",
    "            else:\n",
    "                grain_boundary_index_x, grain_boundary_index_y, grain_boundary_index_z, grain_boundary_id = find_nearest_grain_boundary(voxel_centers,\\\n",
    "                  checked_false, voxel_centers_index_x, voxel_centers_index_y, voxel_centers_index_z, nearest_grain_id, this_crack_front, int(crack_id))\n",
    "                previously_looked_up[nearest_voxel_xyz] = (grain_boundary_index_x, grain_boundary_index_y, grain_boundary_index_z, grain_boundary_id)\n",
    "\n",
    "            # Got back to x,y,z from indices\n",
    "            grain_boundary_x, grain_boundary_y, grain_boundary_z = get_xyz_from_voxel_centers_index(grain_boundary_index_x, \\\n",
    "                                                            grain_boundary_index_y, grain_boundary_index_z, voxel_size)\n",
    "\n",
    "            temp = str(crack_id)+','+str(theta)+','+str(x)+','+str(y)+','+str(z)+','+str(dadN3Dline)+','+str(nearest_grain_id)+','+\\\n",
    "                str(grain_boundary_x)+','+str(grain_boundary_y)+','+str(grain_boundary_z)+','+str(grain_boundary_id)+'\\n'\n",
    "            file.write(temp)\n",
    "\n",
    "            if float(theta) > next_print:\n",
    "                print('Progress: ', float(theta) / 3.15)\n",
    "                next_print += 3.15 / 100\n",
    "\n",
    "print('done')"
   ]
  },
  {
   "cell_type": "code",
   "execution_count": 3,
   "metadata": {
    "collapsed": false
   },
   "outputs": [
    {
     "data": {
      "text/plain": [
       "(-10, 608, 358)"
      ]
     },
     "execution_count": 3,
     "metadata": {},
     "output_type": "execute_result"
    }
   ],
   "source": [
    "x=-10.547\n",
    "y=608.22\n",
    "z=358.02\n",
    "voxel_size=2\n",
    "find_nearest_voxel_center(x, y, z, voxel_size)"
   ]
  },
  {
   "cell_type": "code",
   "execution_count": null,
   "metadata": {
    "collapsed": false
   },
   "outputs": [],
   "source": []
  },
  {
   "cell_type": "raw",
   "metadata": {
    "collapsed": false
   },
   "source": []
  },
  {
   "cell_type": "code",
   "execution_count": null,
   "metadata": {
    "collapsed": true
   },
   "outputs": [],
   "source": []
  }
 ],
 "metadata": {
  "anaconda-cloud": {},
  "kernelspec": {
   "display_name": "Python [Root]",
   "language": "python",
   "name": "Python [Root]"
  },
  "language_info": {
   "codemirror_mode": {
    "name": "ipython",
    "version": 3
   },
   "file_extension": ".py",
   "mimetype": "text/x-python",
   "name": "python",
   "nbconvert_exporter": "python",
   "pygments_lexer": "ipython3",
   "version": "3.5.2"
  }
 },
 "nbformat": 4,
 "nbformat_minor": 0
}
