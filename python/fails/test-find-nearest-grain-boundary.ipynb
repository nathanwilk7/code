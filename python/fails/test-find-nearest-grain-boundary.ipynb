{
 "cells": [
  {
   "cell_type": "code",
   "execution_count": 1,
   "metadata": {
    "collapsed": true
   },
   "outputs": [],
   "source": [
    "pts = []\n",
    "for i in range(1):\n",
    "    pts.append(i)"
   ]
  },
  {
   "cell_type": "code",
   "execution_count": 46,
   "metadata": {
    "collapsed": false
   },
   "outputs": [],
   "source": [
    "def one_dim_find(arr, index, flag):\n",
    "    arr_length = len(arr)\n",
    "    \n",
    "    if index >= arr_length:\n",
    "        raise IndexError('Index must be less than the length of the array')\n",
    "    \n",
    "    max_steps = max((arr_length - 1) - index, index)\n",
    "    steps = 0\n",
    "    \n",
    "    while steps <= max_steps:\n",
    "        if (index + steps) < arr_length and arr[index + steps] == flag:\n",
    "            return index, steps\n",
    "        elif (index - steps) >= 0 and arr[index - steps] == flag:\n",
    "            return index, steps * -1\n",
    "        steps += 1\n",
    "    return None, None"
   ]
  },
  {
   "cell_type": "code",
   "execution_count": 189,
   "metadata": {
    "collapsed": false
   },
   "outputs": [],
   "source": [
    "from collections import deque\n",
    "\n",
    "def bfs_2d(arr, checked, x, y, flag):\n",
    "    queue = deque([(x,y)])\n",
    "    \n",
    "    while len(queue) > 0:\n",
    "        u = queue.popleft()\n",
    "        current_x, current_y = u\n",
    "        if arr[current_x][current_y] == flag:\n",
    "            return (current_x, current_y)\n",
    "        checked[current_x][current_y] = True\n",
    "        \n",
    "        if current_x < len(arr) - 1 and not checked[current_x + 1][current_y]:\n",
    "            queue.append((current_x + 1, current_y))\n",
    "            \n",
    "        if current_x > 0 and not checked[current_x - 1][current_y]:\n",
    "            queue.append((current_x - 1, current_y))\n",
    "            \n",
    "        if current_y < len(arr[0]) - 1 and not checked[current_x][current_y + 1]:\n",
    "            queue.append((current_x, current_y + 1))\n",
    "            \n",
    "        if current_y > 0 and not checked[current_x][current_y - 1]:\n",
    "            queue.append((current_x, current_y - 1))\n",
    "    \n",
    "    raise RuntimeError('Flag not found')"
   ]
  },
  {
   "cell_type": "code",
   "execution_count": 236,
   "metadata": {
    "collapsed": false
   },
   "outputs": [],
   "source": [
    "from collections import deque\n",
    "\n",
    "def bfs_3d(arr, checked, x, y, z, flag):\n",
    "    queue = deque([(x,y,z)])\n",
    "    \n",
    "    while len(queue) > 0:\n",
    "        u = queue.popleft()\n",
    "        current_x, current_y, current_z = u\n",
    "        if arr[current_x][current_y][current_z] == flag:\n",
    "            return (current_x, current_y, current_z)\n",
    "        checked[current_x][current_y][current_z] = True\n",
    "        \n",
    "        if current_x < len(arr) - 1 and not checked[current_x + 1][current_y][current_z]:\n",
    "            queue.append((current_x + 1, current_y, current_z))\n",
    "            \n",
    "        if current_x > 0 and not checked[current_x - 1][current_y][current_z]:\n",
    "            queue.append((current_x - 1, current_y, current_z))\n",
    "            \n",
    "        if current_y < len(arr[0]) - 1 and not checked[current_x][current_y + 1][current_z]:\n",
    "            queue.append((current_x, current_y + 1, current_z))\n",
    "            \n",
    "        if current_y > 0 and not checked[current_x][current_y - 1][current_z]:\n",
    "            queue.append((current_x, current_y - 1, current_z))\n",
    "            \n",
    "        if current_z < len(arr[0][0]) - 1 and not checked[current_x][current_y][current_z + 1]:\n",
    "            queue.append((current_x, current_y, current_z + 1))\n",
    "            \n",
    "        if current_y > 0 and not checked[current_x][current_y][current_z - 1]:\n",
    "            queue.append((current_x, current_y, current_z - 1))\n",
    "    \n",
    "    raise RuntimeError('Flag not found')"
   ]
  },
  {
   "cell_type": "code",
   "execution_count": 268,
   "metadata": {
    "collapsed": false
   },
   "outputs": [
    {
     "name": "stdout",
     "output_type": "stream",
     "text": [
      "0\n"
     ]
    }
   ],
   "source": [
    "import numpy as np\n",
    "\n",
    "nateearr = \\\n",
    "[\n",
    "    [\n",
    "        [0,1],\n",
    "        [2,3],\n",
    "    ],\n",
    "    [\n",
    "        [4,5],\n",
    "        [6,7],\n",
    "    ]\n",
    "]\n",
    "arr = np.array(nateearr)\n",
    "falsearr = \\\n",
    "[\n",
    "    [\n",
    "        [False,False],\n",
    "        [False,False],\n",
    "    ],\n",
    "    [\n",
    "        [False,False],\n",
    "        [False,False],\n",
    "    ]\n",
    "]\n",
    "checked = np.array(falsearr)\n",
    "x = 0\n",
    "y = 1\n",
    "z = 0\n",
    "flag = 0\n",
    "nateex, nateey, nateez = bfs_3d(arr, checked, x, y, z, flag)\n",
    "print(arr[nateex][nateey][nateez])"
   ]
  },
  {
   "cell_type": "code",
   "execution_count": 205,
   "metadata": {
    "collapsed": false
   },
   "outputs": [
    {
     "name": "stdout",
     "output_type": "stream",
     "text": [
      "0\n"
     ]
    }
   ],
   "source": [
    "import numpy as np\n",
    "arr = np.array([[0,1,2],[3,4,5],[6,7,8]])\n",
    "checked = np.array([[False,False,False],[False,False,False],[False,False,False]])\n",
    "x = 2\n",
    "y = 1\n",
    "flag = 0\n",
    "nateex, nateey = bfs_2d(arr, checked, x, y, flag)\n",
    "print(arr[nateex][nateey])"
   ]
  },
  {
   "cell_type": "code",
   "execution_count": null,
   "metadata": {
    "collapsed": true
   },
   "outputs": [],
   "source": []
  },
  {
   "cell_type": "code",
   "execution_count": null,
   "metadata": {
    "collapsed": true
   },
   "outputs": [],
   "source": []
  }
 ],
 "metadata": {
  "kernelspec": {
   "display_name": "Python 3",
   "language": "python",
   "name": "python3"
  },
  "language_info": {
   "codemirror_mode": {
    "name": "ipython",
    "version": 3
   },
   "file_extension": ".py",
   "mimetype": "text/x-python",
   "name": "python",
   "nbconvert_exporter": "python",
   "pygments_lexer": "ipython3",
   "version": "3.5.2"
  }
 },
 "nbformat": 4,
 "nbformat_minor": 0
}
