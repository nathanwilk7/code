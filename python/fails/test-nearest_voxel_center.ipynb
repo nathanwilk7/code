{
 "cells": [
  {
   "cell_type": "code",
   "execution_count": 3,
   "metadata": {
    "collapsed": true
   },
   "outputs": [],
   "source": [
    "import numpy as np\n",
    "\n",
    "# These params come from the D1_merged_all_cracks_6micron_griddata.vtk file in /data. They are 1 less than the \n",
    "#  DIMENSIONS specified because we are using the center of each voxel.\n",
    "\n",
    "def get_voxel_centers_as_array(num_x_pts, num_y_pts, num_z_pts, increment, file):\n",
    "    total_voxels = num_x_pts * num_y_pts * num_z_pts\n",
    "    natee = 0\n",
    "    next_print = total_voxels / 10\n",
    "    \n",
    "    voxel_centers = np.empty((num_x_pts, num_y_pts, num_z_pts), dtype=int)\n",
    "    with open(file, 'r') as voxel_centers_file:\n",
    "        voxel_centers_file.readline()\n",
    "        for line in voxel_centers_file:\n",
    "            tokens = line.split(',')\n",
    "            x = int(float(tokens[0]))\n",
    "            y = int(float(tokens[1]))\n",
    "            z = int(float(tokens[2]))\n",
    "            grain_id = int(tokens[3])\n",
    "            \n",
    "            # We divide the voxel_centers by the increment so that we fill every index of the list\n",
    "            voxel_centers[x // increment][y // increment][z // increment] = grain_id\n",
    "            \n",
    "            # Print progress\n",
    "            natee += 1\n",
    "            if natee >= next_print:\n",
    "                print('Progress: ', natee / total_voxels)\n",
    "                next_print += total_voxels / 10\n",
    "    return voxel_centers"
   ]
  },
  {
   "cell_type": "code",
   "execution_count": 4,
   "metadata": {
    "collapsed": false
   },
   "outputs": [
    {
     "name": "stdout",
     "output_type": "stream",
     "text": [
      "Progress:  0.10000001758367279\n",
      "Progress:  0.20000003516734557\n",
      "Progress:  0.3000000087918364\n",
      "Progress:  0.4000000263755092\n",
      "Progress:  0.5\n",
      "Progress:  0.6000000175836728\n",
      "Progress:  0.7000000351673455\n",
      "Progress:  0.8000000087918364\n",
      "Progress:  0.9000000263755091\n",
      "done\n"
     ]
    }
   ],
   "source": [
    "# Time: ~2 minutes\n",
    "# These params come from the D1_merged_all_cracks_6micron_griddata.vtk file in /data. They are 1 less than the \n",
    "#  DIMENSIONS specified because we are using the center of each voxel.\n",
    "\n",
    "voxel_centers = get_voxel_centers_as_array(201, 376, 301, 2, '../../data/1-voxel-centers.csv')\n",
    "print('done')"
   ]
  },
  {
   "cell_type": "code",
   "execution_count": 5,
   "metadata": {
    "collapsed": true
   },
   "outputs": [],
   "source": [
    "# Reads in the crack_front_points file. dadN3Dline is the output we're concerned with.\n",
    "\n",
    "def get_crack_front_points(input_file):\n",
    "    with open(input_file, 'r') as crack_points_file:\n",
    "        crack_points_file.readline()\n",
    "        crack_points = []\n",
    "        for line in crack_points_file:\n",
    "            tokens = line.split(',')\n",
    "            crack_id = tokens[0]\n",
    "            theta = tokens[1]\n",
    "            x = tokens[5]\n",
    "            y = tokens[6]\n",
    "            z = tokens[7].strip()\n",
    "            dadN3Dline = tokens[3]\n",
    "            if int(crack_id) > 1: # Ignore the first point\n",
    "                crack_points.append((crack_id, theta, x, y, z, dadN3Dline))\n",
    "    return crack_points"
   ]
  },
  {
   "cell_type": "code",
   "execution_count": 6,
   "metadata": {
    "collapsed": true
   },
   "outputs": [],
   "source": [
    "# Gets the crack front points from file\n",
    "\n",
    "crack_front_points = get_crack_front_points('../../data/0-crack_front_growth_rates_1500ppcf_transformed.csv')"
   ]
  },
  {
   "cell_type": "code",
   "execution_count": 1,
   "metadata": {
    "collapsed": true
   },
   "outputs": [],
   "source": [
    "# This will give the nearest voxel center (x,y,z) based on the voxel size being the length of 1 side of the voxel\n",
    "\n",
    "def find_nearest_voxel_center(x, y, z, voxel_size):\n",
    "    # This works because / gives a float while // gives an int. So this says that it's in one boundary until the next\n",
    "    voxel_x = int(((x + (voxel_size / 2)) // voxel_size) * voxel_size)\n",
    "    voxel_y = int(((y + (voxel_size / 2)) // voxel_size) * voxel_size)\n",
    "    voxel_z = int(((z + (voxel_size / 2)) // voxel_size) * voxel_size)\n",
    "    return voxel_x, voxel_y, voxel_z"
   ]
  },
  {
   "cell_type": "code",
   "execution_count": 8,
   "metadata": {
    "collapsed": true
   },
   "outputs": [],
   "source": [
    "# Get the index in voxel_centers from x,y,z\n",
    "\n",
    "def get_voxel_centers_index(x, y, z, voxel_size):\n",
    "    return x // voxel_size, y // voxel_size, z // voxel_size"
   ]
  },
  {
   "cell_type": "code",
   "execution_count": 25,
   "metadata": {
    "collapsed": true
   },
   "outputs": [],
   "source": [
    "# Get the x,y,z from voxel_centers indices\n",
    "\n",
    "def get_xyz_from_voxel_centers_index(xi, yi, zi, voxel_size):\n",
    "    return xi * voxel_size, yi * voxel_size, zi * voxel_size"
   ]
  },
  {
   "cell_type": "code",
   "execution_count": 34,
   "metadata": {
    "collapsed": true
   },
   "outputs": [],
   "source": [
    "# The 4 rightmost digits of the grain_id identify it. The other digits are to show which crack front it's on and \n",
    "#  whether it's above or below the crack front\n",
    "\n",
    "def get_actual_grain_id(long_grain_id):\n",
    "    return long_grain_id % 10000"
   ]
  },
  {
   "cell_type": "code",
   "execution_count": 35,
   "metadata": {
    "collapsed": false
   },
   "outputs": [],
   "source": [
    "nearest_voxels = []\n",
    "voxel_size = 2\n",
    "\n",
    "for crack_front_point in crack_front_points:\n",
    "    x = float(crack_front_point[2])\n",
    "    y = float(crack_front_point[3])\n",
    "    z = float(crack_front_point[4])\n",
    "    \n",
    "    voxel_center = find_nearest_voxel_center(x, y, z, voxel_size)\n",
    "    voxel_center_index = get_voxel_centers_index(voxel_center[0], voxel_center[1], voxel_center[2], voxel_size)\n",
    "    grain_id = voxel_centers[int(voxel_center_index[0])][int(voxel_center_index[1])][int(voxel_center_index[2])]\n",
    "    grain_id = get_actual_grain_id(grain_id)\n",
    "    \n",
    "    voxel_center_xyz = get_xyz_from_voxel_centers_index(voxel_center_index[0], voxel_center_index[1], voxel_center_index[2], voxel_size)\n",
    "    nearest_voxels.append((voxel_center_xyz[0], voxel_center_xyz[1], voxel_center_xyz[2], grain_id))"
   ]
  },
  {
   "cell_type": "code",
   "execution_count": 36,
   "metadata": {
    "collapsed": false
   },
   "outputs": [],
   "source": [
    "with open('../../data/vis/nearest-voxel-center.csv', 'w') as w:\n",
    "    w.write('X, Y, Z, Grain ID\\n')\n",
    "    for nearest_voxel in nearest_voxels:\n",
    "        w.write('{}, {}, {}, {}\\n'.format(nearest_voxel[0], nearest_voxel[1], nearest_voxel[2], nearest_voxel[3]))"
   ]
  },
  {
   "cell_type": "code",
   "execution_count": 32,
   "metadata": {
    "collapsed": false
   },
   "outputs": [
    {
     "data": {
      "text/plain": [
       "(0, 332, 306, 6310260)"
      ]
     },
     "execution_count": 32,
     "metadata": {},
     "output_type": "execute_result"
    }
   ],
   "source": [
    "nearest_voxels[0]"
   ]
  },
  {
   "cell_type": "code",
   "execution_count": 3,
   "metadata": {
    "collapsed": false
   },
   "outputs": [
    {
     "data": {
      "text/plain": [
       "(26, 332, 310)"
      ]
     },
     "execution_count": 3,
     "metadata": {},
     "output_type": "execute_result"
    }
   ],
   "source": [
    "find_nearest_voxel_center(25.607, 332.04, 309, 2)"
   ]
  },
  {
   "cell_type": "code",
   "execution_count": null,
   "metadata": {
    "collapsed": true
   },
   "outputs": [],
   "source": []
  }
 ],
 "metadata": {
  "anaconda-cloud": {},
  "kernelspec": {
   "display_name": "Python [Root]",
   "language": "python",
   "name": "Python [Root]"
  },
  "language_info": {
   "codemirror_mode": {
    "name": "ipython",
    "version": 3
   },
   "file_extension": ".py",
   "mimetype": "text/x-python",
   "name": "python",
   "nbconvert_exporter": "python",
   "pygments_lexer": "ipython3",
   "version": "3.5.2"
  }
 },
 "nbformat": 4,
 "nbformat_minor": 0
}
