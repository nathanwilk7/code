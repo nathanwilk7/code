{
 "cells": [
  {
   "cell_type": "code",
   "execution_count": 82,
   "metadata": {
    "collapsed": true
   },
   "outputs": [],
   "source": [
    "from scipy.spatial import cKDTree\n",
    "\n",
    "def get_kd_tree_of_crack_surface(filename):\n",
    "    points = []\n",
    "    with open(filename, 'r') as r:\n",
    "        r.readline()\n",
    "        for line in r:\n",
    "            tokens = line.split(',')\n",
    "            x = float(tokens[3])\n",
    "            y = float(tokens[4])\n",
    "            z = float(tokens[5].strip())\n",
    "            points.append((x,y,z))\n",
    "    \n",
    "    kd_tree = cKDTree(points)\n",
    "    return kd_tree"
   ]
  },
  {
   "cell_type": "code",
   "execution_count": 99,
   "metadata": {
    "collapsed": false
   },
   "outputs": [],
   "source": [
    "import numpy as np\n",
    "\n",
    "def find_normal_of_plane_for_point(tree, x,y,z):\n",
    "    distances, indices = tree.query((x,y,z),3)\n",
    "    pt1 = tree.data[indices[0]]\n",
    "    pt2 = tree.data[indices[1]]\n",
    "    pt3 = tree.data[indices[2]]\n",
    "    from1to2 = ((pt2[0]-pt1[0], pt2[1]-pt1[1], pt2[2]-pt1[2]))\n",
    "    from1to3 = ((pt3[0]-pt1[0], pt3[1]-pt1[1], pt3[2]-pt1[2]))\n",
    "    normal = np.cross(from1to3, from1to2)\n",
    "    if normal[0] == 0 and normal[1] == 0 and normal[2] == 0:\n",
    "        distances, indices = tree.query((x,y,z),3) # Tried this with 4 and it worked but I think 3 will be better with the crack front point...\n",
    "        pt1 = ((x,y,z))\n",
    "        pt2 = tree.data[indices[1]]\n",
    "        pt3 = tree.data[indices[2]]\n",
    "        from1to2 = ((pt2[0]-pt1[0], pt2[1]-pt1[1], pt2[2]-pt1[2]))\n",
    "        from1to3 = ((pt3[0]-pt1[0], pt3[1]-pt1[1], pt3[2]-pt1[2]))\n",
    "        normal_ = np.cross(from1to3, from1to2)\n",
    "        return normal_\n",
    "    return normal"
   ]
  },
  {
   "cell_type": "code",
   "execution_count": 92,
   "metadata": {
    "collapsed": true
   },
   "outputs": [],
   "source": [
    "import numpy as np\n",
    "from math import acos\n",
    "\n",
    "def find_raw_angle_between_vectors(x1, y1, z1, x2, y2, z2):\n",
    "    dot = np.dot((x1,y1,z1), (x2, y2, z2))\n",
    "    magnitude1 = (x1**2 + y1**2 + z1**2)**.5\n",
    "    magnitude2 = (x2**2 + y2**2 + z2**2)**.5\n",
    "    return acos(dot / (magnitude1 * magnitude2))"
   ]
  },
  {
   "cell_type": "code",
   "execution_count": 85,
   "metadata": {
    "collapsed": true
   },
   "outputs": [],
   "source": [
    "from math import pi\n",
    "\n",
    "def convert_raw_to_scaled(angle):\n",
    "    if angle > pi / 2:\n",
    "        return pi - angle\n",
    "    else:\n",
    "        return angle"
   ]
  },
  {
   "cell_type": "code",
   "execution_count": 86,
   "metadata": {
    "collapsed": false
   },
   "outputs": [],
   "source": [
    "tree = get_kd_tree_of_crack_surface('../data/0-D1_grid_points_with_attributes_transformed.csv')\n",
    "print('done')"
   ]
  },
  {
   "cell_type": "code",
   "execution_count": 100,
   "metadata": {
    "collapsed": false
   },
   "outputs": [
    {
     "name": "stdout",
     "output_type": "stream",
     "text": [
      "done\n"
     ]
    }
   ],
   "source": [
    "with open('../data/4-phis-misorientation.csv', 'r') as r:\n",
    "    with open('../data/5-crack-surface-normal.csv', 'w') as w:\n",
    "        # Write the file headers\n",
    "        headers = ('crack_id,theta,x,y,z,dadN3Dline,grain_id,nearest_grain_boundary_x,nearest_grain_boundary_y,'\n",
    "                   'nearest_grain_boundary_z,nearest_grain_boundary_id,distance_to_grain_boundary,'\n",
    "                   'vector_to_grain_boundary_x,vector_to_grain_boundary_y,vector_to_grain_boundary_z,'\n",
    "                   'magnitude_of_vector_to_grain_boundary,unit_vector_to_grain_boundary_x,unit_vector_to_grain_boundary_y,'\n",
    "                   'unit_vector_to_grain_boundary_z,phi1,Phi,phi2,'\n",
    "                   'nearest_grain_phi1,nearest_grain_Phi,nearest_grain_phi2,'\n",
    "                   'misorientation,normal_x,normal_y,normal_z,raw_angle,scaled_angle\\n')\n",
    "        w.write(headers)\n",
    "        \n",
    "        # Skip the headers of the file\n",
    "        r.readline()\n",
    "        \n",
    "        for line in r:\n",
    "            # Read in the tokens\n",
    "            tokens = line.split(',')\n",
    "            \n",
    "            crack_id = tokens[0]\n",
    "            theta = tokens[1]\n",
    "            \n",
    "            x = float(tokens[2])\n",
    "            y = float(tokens[3])\n",
    "            z = float(tokens[4])\n",
    "            dadN3Dline = tokens[5]\n",
    "            grain_id = int(tokens[6])\n",
    "            \n",
    "            nearest_grain_boundary_x = tokens[7]\n",
    "            nearest_grain_boundary_y = tokens[8]\n",
    "            nearest_grain_boundary_z = tokens[9]\n",
    "            nearest_grain_boundary_id = int(tokens[10])\n",
    "            \n",
    "            distance_to_grain_boundary = tokens[11]\n",
    "            vector_to_grain_boundary_x = float(tokens[12])\n",
    "            vector_to_grain_boundary_y = float(tokens[13])\n",
    "            vector_to_grain_boundary_z = float(tokens[14])\n",
    "            magnitude_of_vector_to_grain_boundary = tokens[15]\n",
    "            unit_vector_to_grain_boundary_x = tokens[16]\n",
    "            unit_vector_to_grain_boundary_y = tokens[17]\n",
    "            unit_vector_to_grain_boundary_z = tokens[18]\n",
    "            \n",
    "            phi1 = tokens[19]\n",
    "            Phi = tokens[20]\n",
    "            phi2 = tokens[21]\n",
    "            nearest_grain_phi1 = tokens[22]\n",
    "            nearest_grain_Phi = tokens[23]\n",
    "            nearest_grain_phi2 = tokens[24]\n",
    "            misorientation = tokens[25].strip()\n",
    "\n",
    "            # Find the normal vector to the plane for the point on the crack surface\n",
    "            normal_x, normal_y, normal_z = find_normal_of_plane_for_point(tree, x, y, z)\n",
    "\n",
    "            # Get the raw angle between the crack surface normal vector and the vector to the nearest grain boundary\n",
    "            raw_angle = find_raw_angle_between_vectors(vector_to_grain_boundary_x, vector_to_grain_boundary_y, vector_to_grain_boundary_z, \n",
    "                                                       normal_x, normal_y, normal_z)\n",
    "            \n",
    "            scaled_angle = convert_raw_to_scaled(raw_angle)\n",
    "\n",
    "            # Write it to the file\n",
    "            to_write = '{},{},{},{},{},{},{},{},{},{},{},{},{},{},{},{},{},{},{},{},{},{},{},{},{},{},{},{},{},{},{}\\n'\\\n",
    "                                .format(crack_id,theta,x,y,z,\n",
    "                                dadN3Dline,grain_id,nearest_grain_boundary_x,nearest_grain_boundary_y,\n",
    "                                nearest_grain_boundary_z,nearest_grain_boundary_id,distance_to_grain_boundary,\n",
    "                                vector_to_grain_boundary_x,vector_to_grain_boundary_y,vector_to_grain_boundary_z,\n",
    "                                magnitude_of_vector_to_grain_boundary,unit_vector_to_grain_boundary_x,\n",
    "                                unit_vector_to_grain_boundary_y, unit_vector_to_grain_boundary_z, phi1, Phi, phi2, \n",
    "                                nearest_grain_phi1, nearest_grain_Phi, nearest_grain_phi2, misorientation, \n",
    "                                normal_x, normal_y, normal_z, raw_angle, scaled_angle)\n",
    "            w.write(to_write)\n",
    "print('done')"
   ]
  },
  {
   "cell_type": "code",
   "execution_count": null,
   "metadata": {
    "collapsed": true
   },
   "outputs": [],
   "source": []
  }
 ],
 "metadata": {
  "anaconda-cloud": {},
  "kernelspec": {
   "display_name": "Python [Root]",
   "language": "python",
   "name": "Python [Root]"
  },
  "language_info": {
   "codemirror_mode": {
    "name": "ipython",
    "version": 3
   },
   "file_extension": ".py",
   "mimetype": "text/x-python",
   "name": "python",
   "nbconvert_exporter": "python",
   "pygments_lexer": "ipython3",
   "version": "3.5.2"
  }
 },
 "nbformat": 4,
 "nbformat_minor": 0
}
