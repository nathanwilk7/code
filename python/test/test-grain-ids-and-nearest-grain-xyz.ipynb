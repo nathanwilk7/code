{
 "cells": [
  {
   "cell_type": "code",
   "execution_count": 1,
   "metadata": {
    "collapsed": true
   },
   "outputs": [],
   "source": [
    "# Get the voxel centers\n",
    "# Read them into a KD Tree\n",
    "# Pull out a bunch based on the nearest gb found and write those to a file\n",
    "# Check if the change in gb matches up by...entering point found in paraview?"
   ]
  },
  {
   "cell_type": "code",
   "execution_count": 2,
   "metadata": {
    "collapsed": true
   },
   "outputs": [],
   "source": [
    "# This will give the nearest voxel center (x,y,z) based on the voxel size being the length of 1 side of the voxel\n",
    "\n",
    "def find_nearest_voxel_center(x, y, z, voxel_size):\n",
    "    # This works because / gives a float while // gives an int. So this says that it's in one boundary until the next\n",
    "    voxel_x = int(((x + (voxel_size / 2)) // voxel_size) * voxel_size)\n",
    "    voxel_y = int(((y + (voxel_size / 2)) // voxel_size) * voxel_size)\n",
    "    voxel_z = int(((z + (voxel_size / 2)) // voxel_size) * voxel_size)\n",
    "    return voxel_x, voxel_y, voxel_z"
   ]
  },
  {
   "cell_type": "code",
   "execution_count": 3,
   "metadata": {
    "collapsed": false
   },
   "outputs": [
    {
     "name": "stdout",
     "output_type": "stream",
     "text": [
      "tick\n",
      "tick\n",
      "tick\n",
      "tick\n",
      "tick\n",
      "tick\n",
      "tick\n",
      "tick\n",
      "tick\n",
      "tick\n",
      "tick\n",
      "tick\n",
      "tick\n",
      "tick\n",
      "tick\n",
      "tick\n",
      "tick\n",
      "tick\n",
      "tick\n",
      "tick\n",
      "tick\n",
      "tick\n",
      "done\n"
     ]
    }
   ],
   "source": [
    "voxel_centers_ = []\n",
    "grain_ids_ = []\n",
    "natee = 0\n",
    "with open('../../data/1-voxel-centers.csv', 'r') as voxel_centers_file:\n",
    "    voxel_centers_file.readline()\n",
    "    for line in voxel_centers_file:\n",
    "        tokens = line.split(',')\n",
    "        x = int(float(tokens[0]))\n",
    "        y = int(float(tokens[1]))\n",
    "        z = int(float(tokens[2]))\n",
    "        grain_id = int(tokens[3])\n",
    "        voxel_centers_.append((x, y, z))\n",
    "        grain_ids_.append(grain_id)\n",
    "        natee += 1\n",
    "        if natee > 1000000:\n",
    "            print('tick')\n",
    "            natee = 0\n",
    "print('done')"
   ]
  },
  {
   "cell_type": "code",
   "execution_count": 4,
   "metadata": {
    "collapsed": false
   },
   "outputs": [],
   "source": [
    "import numpy as np\n",
    "\n",
    "voxel_centers = np.array(voxel_centers_)\n",
    "grain_ids = np.array(grain_ids_)\n",
    "print('done')"
   ]
  },
  {
   "cell_type": "code",
   "execution_count": 5,
   "metadata": {
    "collapsed": false
   },
   "outputs": [],
   "source": [
    "from scipy.spatial import cKDTree\n",
    "# import sys\n",
    "# sys.setrecursionlimit(10000)\n",
    "\n",
    "kd_tree = cKDTree(voxel_centers)\n",
    "print('done')"
   ]
  },
  {
   "cell_type": "code",
   "execution_count": 6,
   "metadata": {
    "collapsed": false
   },
   "outputs": [
    {
     "name": "stdout",
     "output_type": "stream",
     "text": [
      "8 316 304\n",
      "18.76166303929372\n"
     ]
    }
   ],
   "source": [
    "bx = 7.8821\n",
    "by = 315.15\n",
    "bz = 304.1\n",
    "\n",
    "x, y, z = find_nearest_voxel_center(bx, by, bz, 2)\n",
    "print(x,y,z)\n",
    "\n",
    "fx = 0\n",
    "fy = 304\n",
    "fz = 316\n",
    "actual_distance = ((x-fx)**2 + (y-fy)**2 + (z-fz)**2)**.5\n",
    "print(actual_distance)"
   ]
  },
  {
   "cell_type": "code",
   "execution_count": 7,
   "metadata": {
    "collapsed": false
   },
   "outputs": [],
   "source": [
    "indices = kd_tree.query_ball_point((x,y,z),actual_distance-.01)\n",
    "\n",
    "with open('../../data/test/sphere-cf2-theta016755-inside.csv', 'w') as w:\n",
    "    w.write('X,Y,Z,Grain ID\\n')\n",
    "    for index in indices:\n",
    "        x_, y_, z_ = kd_tree.data[index]\n",
    "        grain_id = grain_ids[index]\n",
    "        w.write('{},{},{},{}\\n'.format(x_,y_,z_,grain_id%10000))\n",
    "        \n",
    "indices = kd_tree.query_ball_point((x,y,z),actual_distance+.01)\n",
    "\n",
    "with open('../../data/test/sphere-cf2-theta016755-outside.csv', 'w') as w:\n",
    "    w.write('X,Y,Z,Grain ID\\n')\n",
    "    for index in indices:\n",
    "        x_, y_, z_ = kd_tree.data[index]\n",
    "        grain_id = grain_ids[index]\n",
    "        w.write('{},{},{},{}\\n'.format(x_,y_,z_,grain_id%10000))"
   ]
  },
  {
   "cell_type": "code",
   "execution_count": 11,
   "metadata": {
    "collapsed": false
   },
   "outputs": [
    {
     "data": {
      "text/plain": [
       "<scipy.spatial.ckdtree.cKDTree at 0x21916c288>"
      ]
     },
     "execution_count": 11,
     "metadata": {},
     "output_type": "execute_result"
    }
   ],
   "source": []
  },
  {
   "cell_type": "code",
   "execution_count": null,
   "metadata": {
    "collapsed": true
   },
   "outputs": [],
   "source": []
  }
 ],
 "metadata": {
  "anaconda-cloud": {},
  "kernelspec": {
   "display_name": "Python [Root]",
   "language": "python",
   "name": "Python [Root]"
  },
  "language_info": {
   "codemirror_mode": {
    "name": "ipython",
    "version": 3
   },
   "file_extension": ".py",
   "mimetype": "text/x-python",
   "name": "python",
   "nbconvert_exporter": "python",
   "pygments_lexer": "ipython3",
   "version": "3.5.2"
  }
 },
 "nbformat": 4,
 "nbformat_minor": 0
}
