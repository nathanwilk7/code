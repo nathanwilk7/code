{
 "cells": [
  {
   "cell_type": "code",
   "execution_count": 3,
   "metadata": {
    "collapsed": true
   },
   "outputs": [],
   "source": [
    "from math import pi\n",
    "\n",
    "def use_point(crack_id, theta):\n",
    "    theta = (theta / pi) * 180\n",
    "    if crack_id == 0:\n",
    "        return False\n",
    "    elif crack_id == 4 and theta >= 25 and theta <= 84:\n",
    "        return False\n",
    "    elif crack_id == 5 and theta >= 0 and theta <= 10:\n",
    "        return False\n",
    "    elif crack_id == 5 and theta >= 27 and theta <= 8:\n",
    "        return False\n",
    "    elif crack_id == 5 and theta >= 95 and theta <= 112:\n",
    "        return False\n",
    "    elif crack_id == 6 and theta >= 0 and theta <= 89:\n",
    "        return False\n",
    "    elif crack_id == 6 and theta >= 95 and theta <= 112:\n",
    "        return False\n",
    "    elif crack_id == 6 and theta >= 174 and theta <= 180:\n",
    "        return False\n",
    "    elif crack_id == 7 and theta >= 0 and theta <= 3:\n",
    "        return False\n",
    "    elif crack_id == 7 and theta >= 20 and theta <= 111:\n",
    "        return False\n",
    "    elif crack_id == 7 and theta >= 170 and theta <= 180:\n",
    "        return False\n",
    "    elif crack_id == 8 and theta >= 0 and theta <= 3:\n",
    "        return False\n",
    "    elif crack_id == 8 and theta >= 18 and theta <= 68:\n",
    "        return False\n",
    "    elif crack_id == 8 and theta >= 72 and theta <= 112:\n",
    "        return False\n",
    "    elif crack_id == 8 and theta >= 162 and theta <= 180:\n",
    "        return False\n",
    "    else:\n",
    "        return True"
   ]
  },
  {
   "cell_type": "code",
   "execution_count": 4,
   "metadata": {
    "collapsed": false
   },
   "outputs": [
    {
     "name": "stdout",
     "output_type": "stream",
     "text": [
      "done\n"
     ]
    }
   ],
   "source": [
    "# Calculates the Taylor Factor and write it to file\n",
    "\n",
    "with open('../../data/11-delta-taylor-factor.csv', 'r') as r:\n",
    "    with open('../../data/12-discard-uncertain-regions.csv', 'w') as w:\n",
    "        # Write the file headers\n",
    "        headers = ('dadN,beta,change_in_z,crack_id,theta,x,y,z,on_crack_front,grain_id,nearest_grain_boundary_x,nearest_grain_boundary_y,'\n",
    "                   'nearest_grain_boundary_z,nearest_grain_boundary_id,distance_to_grain_boundary,'\n",
    "                   'vector_to_grain_boundary_x,vector_to_grain_boundary_y,vector_to_grain_boundary_z,'\n",
    "                   'magnitude_of_vector_to_grain_boundary,unit_vector_to_grain_boundary_x,unit_vector_to_grain_boundary_y,'\n",
    "                   'unit_vector_to_grain_boundary_z,phi1,Phi,phi2,'\n",
    "                   'nearest_grain_phi1,nearest_grain_Phi,nearest_grain_phi2,'\n",
    "                   'misorientation,normal_x,normal_y,normal_z,raw_angle,scaled_angle,taylor_factor,previous_dadN,'\n",
    "                   'curvature_distance,distance_to_avg_distance,signed_delta_taylor_factor,delta_taylor_factor\\n')\n",
    "        w.write(headers)\n",
    "        \n",
    "        r.readline()\n",
    "        \n",
    "        for line in r:\n",
    "            tokens = line.split(',')\n",
    "        \n",
    "            dadN = tokens[0]\n",
    "            beta = tokens[1]\n",
    "            change_in_z = tokens[2]\n",
    "            crack_id = int(tokens[3])\n",
    "            theta = float(tokens[4])\n",
    "\n",
    "            x = float(tokens[5])\n",
    "            y = float(tokens[6])\n",
    "            z = float(tokens[7])\n",
    "            on_crack_front = tokens[8] == 'True'\n",
    "            grain_id = int(tokens[9])\n",
    "\n",
    "            nearest_grain_boundary_x = tokens[10]\n",
    "            nearest_grain_boundary_y = tokens[11]\n",
    "            nearest_grain_boundary_z = tokens[12]\n",
    "            nearest_grain_boundary_id = int(tokens[13])\n",
    "\n",
    "            distance_to_grain_boundary = tokens[14]\n",
    "            vector_to_grain_boundary_x = float(tokens[15])\n",
    "            vector_to_grain_boundary_y = float(tokens[16])\n",
    "            vector_to_grain_boundary_z = float(tokens[17])\n",
    "            magnitude_of_vector_to_grain_boundary = tokens[18]\n",
    "            unit_vector_to_grain_boundary_x = tokens[19]\n",
    "            unit_vector_to_grain_boundary_y = tokens[20]\n",
    "            unit_vector_to_grain_boundary_z = tokens[21]\n",
    "\n",
    "            phi1 = tokens[22]\n",
    "            Phi = tokens[23]\n",
    "            phi2 = tokens[24]\n",
    "            nearest_grain_phi1 = float(tokens[25])\n",
    "            nearest_grain_Phi = float(tokens[26])\n",
    "            nearest_grain_phi2 = float(tokens[27])\n",
    "            misorientation = tokens[28]\n",
    "\n",
    "            normal_x = tokens[29]\n",
    "            normal_y = tokens[30]\n",
    "            normal_z = tokens[31]\n",
    "            raw_angle = tokens[32]\n",
    "            scaled_angle = tokens[33]\n",
    "            taylor_factor = float(tokens[34])\n",
    "            previous_dadN = tokens[35]\n",
    "            curvature_distance = tokens[36]\n",
    "            distance_to_avg_distance = tokens[37]\n",
    "            signed_delta_taylor_factor = tokens[38]\n",
    "            delta_taylor_factor = tokens[39].strip()\n",
    "\n",
    "            # Write it to the file\n",
    "            if crack_id > 0 and on_crack_front and use_point(crack_id, theta):\n",
    "                to_write = '{},{},{},{},{},{},{},{},{},{},{},{},{},{},{},{},{},{},{},{},{},{},{},{},{},{},{},{},{},{},{},{},{},{},{},{},{},{},{},{}\\n'\\\n",
    "                                    .format(dadN,beta,change_in_z,crack_id,theta,x,y,z,on_crack_front,\n",
    "                                    grain_id,nearest_grain_boundary_x,nearest_grain_boundary_y,\n",
    "                                    nearest_grain_boundary_z,nearest_grain_boundary_id,distance_to_grain_boundary,\n",
    "                                    vector_to_grain_boundary_x,vector_to_grain_boundary_y,vector_to_grain_boundary_z,\n",
    "                                    magnitude_of_vector_to_grain_boundary,unit_vector_to_grain_boundary_x,\n",
    "                                    unit_vector_to_grain_boundary_y, unit_vector_to_grain_boundary_z, phi1, Phi, phi2, \n",
    "                                    nearest_grain_phi1, nearest_grain_Phi, nearest_grain_phi2, misorientation, \n",
    "                                    normal_x, normal_y, normal_z, raw_angle, scaled_angle, taylor_factor, previous_dadN, \n",
    "                                    curvature_distance, distance_to_avg_distance, signed_delta_taylor_factor, delta_taylor_factor)\n",
    "                w.write(to_write)\n",
    "print('done')"
   ]
  },
  {
   "cell_type": "code",
   "execution_count": null,
   "metadata": {
    "collapsed": true
   },
   "outputs": [],
   "source": []
  }
 ],
 "metadata": {
  "kernelspec": {
   "display_name": "Python [Root]",
   "language": "python",
   "name": "Python [Root]"
  },
  "language_info": {
   "codemirror_mode": {
    "name": "ipython",
    "version": 3
   },
   "file_extension": ".py",
   "mimetype": "text/x-python",
   "name": "python",
   "nbconvert_exporter": "python",
   "pygments_lexer": "ipython3",
   "version": "3.5.2"
  }
 },
 "nbformat": 4,
 "nbformat_minor": 0
}
